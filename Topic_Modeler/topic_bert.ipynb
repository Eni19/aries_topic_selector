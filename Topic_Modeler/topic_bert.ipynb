{
 "cells": [
  {
   "cell_type": "code",
   "execution_count": 1,
   "id": "54394601",
   "metadata": {},
   "outputs": [
    {
     "name": "stderr",
     "output_type": "stream",
     "text": [
      "c:\\Users\\Pessoal\\Documents\\Unifesp\\Aries\\aries_topic_selector\\.venv\\Lib\\site-packages\\tqdm\\auto.py:21: TqdmWarning: IProgress not found. Please update jupyter and ipywidgets. See https://ipywidgets.readthedocs.io/en/stable/user_install.html\n",
      "  from .autonotebook import tqdm as notebook_tqdm\n"
     ]
    }
   ],
   "source": [
    "import pandas as pd\n",
    "import numpy as np\n",
    "import matplotlib.pyplot as plt\n",
    "import re\n",
    "from bertopic import BERTopic\n",
    "from sentence_transformers import SentenceTransformer\n",
    "from transformers import AutoTokenizer, AutoModelForMaskedLM\n",
    "import plotly.io as pio\n",
    "from umap import UMAP\n",
    "import hdbscan"
   ]
  },
  {
   "cell_type": "code",
   "execution_count": 2,
   "id": "a4e3cf2f",
   "metadata": {},
   "outputs": [],
   "source": [
    "from bertopic.representation import MaximalMarginalRelevance"
   ]
  },
  {
   "cell_type": "markdown",
   "id": "842e3d9d",
   "metadata": {},
   "source": [
    "Mostramos o diretório do arquivo CSV e definimos o dataframe utilizando a coluna de tweets limpos"
   ]
  },
  {
   "cell_type": "code",
   "execution_count": 17,
   "id": "741c81af",
   "metadata": {},
   "outputs": [],
   "source": [
    "nome_da_pasta = \"resistencia_bacteria\" # Sua variável para o nome da pasta\n",
    "caminho_base = r'C:\\Users\\Pessoal\\Documents\\Unifesp\\Aries\\aries_topic_selector\\dados\\dadosTwitter\\CSV'\n",
    "nome_do_arquivo = 'tweets_processados.csv'\n",
    "\n",
    "\n",
    "caminho_arquivo = fr'{caminho_base}\\{nome_da_pasta}\\{nome_do_arquivo}'\n",
    "tweets_df = pd.read_csv(caminho_arquivo)\n",
    "tweets_df = tweets_df[tweets_df[\"language\"] == \"pt\"]\n"
   ]
  },
  {
   "cell_type": "code",
   "execution_count": 18,
   "id": "4113c978",
   "metadata": {},
   "outputs": [],
   "source": [
    "tweets_df.dropna(axis='columns', inplace=True)\n",
    "tweets = tweets_df[\"tokens\"].tolist()"
   ]
  },
  {
   "cell_type": "markdown",
   "id": "1df06a0a",
   "metadata": {},
   "source": [
    "### Usar dados do G1"
   ]
  },
  {
   "cell_type": "code",
   "execution_count": 12,
   "id": "bb33077a",
   "metadata": {},
   "outputs": [],
   "source": [
    "caminho_arquivo = r'C:\\Users\\Pessoal\\Documents\\Unifesp\\Aries\\aries_topic_selector\\dados\\dadosG1\\bacteria\\news_processados.csv'\n",
    "tweets_df = pd.read_csv(caminho_arquivo)\n",
    "tweets_df.dropna(axis='columns', inplace=True)\n",
    "tweets = tweets_df[\"tokens\"].tolist()"
   ]
  },
  {
   "cell_type": "markdown",
   "id": "63b1d58b",
   "metadata": {},
   "source": [
    "# BERTimbau Base para Topic Modeling"
   ]
  },
  {
   "cell_type": "markdown",
   "id": "f7c80bfa",
   "metadata": {},
   "source": [
    "Primeiro definimos o modelo de embedding, no caso, o BERTimbau"
   ]
  },
  {
   "cell_type": "code",
   "execution_count": 5,
   "id": "5d887b9b",
   "metadata": {},
   "outputs": [
    {
     "name": "stderr",
     "output_type": "stream",
     "text": [
      "No sentence-transformers model found with name neuralmind/bert-base-portuguese-cased. Creating a new one with mean pooling.\n"
     ]
    }
   ],
   "source": [
    "embedding_model = SentenceTransformer(\"neuralmind/bert-base-portuguese-cased\")"
   ]
  },
  {
   "cell_type": "markdown",
   "id": "ed69364b",
   "metadata": {},
   "source": [
    "# Configurando o UMAP\n",
    "técnica de redução de dimensionalidade. Ele pega seus embeddings de alta dimensão e os projeta em um espaço de menor dimensão enquanto tenta preservar a estrutura local e global dos dados\n",
    "\n",
    "- n_neighbors: Controla o balanço entre a preservação da estrutura local versus global dos dados.\n",
    "    Valores menores (por exemplo, 2 a 10) fazem com que o UMAP se concentre mais na estrutura local dos dados, resultando em clusters mais apertados e potencialmente mais tópicos, mas que podem ser muito específicos.\n",
    "    Valores maiores (por exemplo, 15 a 50 ou mais) fazem com que o UMAP preserve mais a estrutura global, resultando em clusters mais dispersos e potencialmente menos tópicos, mas mais genéricos.\n",
    "    Um bom ponto de partida é geralmente entre 10 e 15.\n",
    "- n_components: A dimensão para a qual os embeddings serão reduzidos.\n",
    "    Para visualização, geralmente usamos n_components=2 ou 3.\n",
    "    Para o agrupamento, usar n_components entre 5 e 10 é comum. Um número maior de componentes pode preservar mais informações dos embeddings, mas pode tornar o agrupamento mais difícil para o HDBSCAN se houver muito \"ruído\".\n",
    "- metric: A métrica de distância usada para calcular a proximidade entre os pontos nos embeddings.\n",
    "    'cosine' é uma escolha comum e geralmente boa para embeddings de texto, pois mede a similaridade angular entre os vetores, o que é relevante para o significado semântico.\n",
    "\n"
   ]
  },
  {
   "cell_type": "markdown",
   "id": "120eb142",
   "metadata": {},
   "source": [
    "Treinamos os modelos nos Tweets já tokenizados"
   ]
  },
  {
   "cell_type": "code",
   "execution_count": 6,
   "id": "e82c3a17",
   "metadata": {},
   "outputs": [],
   "source": [
    "umap_model = UMAP(n_neighbors=5, #5 para mais clusters\n",
    "                  n_components=5, \n",
    "                  metric='cosine',\n",
    "                  random_state=42\n",
    "                 )"
   ]
  },
  {
   "cell_type": "markdown",
   "id": "aec50800",
   "metadata": {},
   "source": [
    "# Configurando o HDBSCAN\n",
    "É um algoritmo de agrupamento que agrupa pontos de dados com base na densidade. Ele é excelente para encontrar clusters de várias formas e tamanhos, e também consegue identificar \"ruído\" (documentos que não pertencem a nenhum tópico).\n",
    "\n",
    "- min_cluster_size: O número mínimo de amostras em um cluster para ser considerado um cluster válido.\n",
    "    Valores menores resultam em mais clusters e potencialmente mais ruído (tópicos com poucos documentos).\n",
    "    Valores maiores resultam em menos clusters, mas mais densos e potencialmente mais robustos.\n",
    "\n",
    "- cluster_selection_method: Define como os clusters são selecionados a partir da hierarquia.\n",
    "    'eom' (default, \"Excess of Mass\") é geralmente a melhor opção, pois tende a produzir clusters mais equilibrados.\n",
    "    'leaf' seleciona os clusters nas folhas da hierarquia, o que pode resultar em muitos clusters pequenos.\n",
    "\n",
    "- metric='euclidean"
   ]
  },
  {
   "cell_type": "code",
   "execution_count": 7,
   "id": "dd291494",
   "metadata": {},
   "outputs": [],
   "source": [
    "hdbscan_model = hdbscan.HDBSCAN(min_cluster_size=10,\n",
    "                                min_samples=5,\n",
    "                                metric='euclidean',\n",
    "                                cluster_selection_method='eom',\n",
    "                                prediction_data=True \n",
    "                               )"
   ]
  },
  {
   "cell_type": "markdown",
   "id": "da710eaa",
   "metadata": {},
   "source": [
    "# Inicializar o BERTopic com os modelos configurados e o parâmetro diversity"
   ]
  },
  {
   "cell_type": "code",
   "execution_count": 8,
   "id": "269ab3e4",
   "metadata": {},
   "outputs": [],
   "source": [
    "representation_model = MaximalMarginalRelevance(diversity=0.1, top_n_words=10)\n",
    "\n",
    "topic_model = BERTopic(embedding_model=embedding_model,\n",
    "                       language=\"portuguese\",\n",
    "                       umap_model=umap_model,\n",
    "                       hdbscan_model=hdbscan_model,\n",
    "                       representation_model=representation_model,\n",
    "                       nr_topics=\"auto\", # Ou um número fixo, ex: 50\n",
    "                       min_topic_size=10 # Mantendo o padrão ou ajustando\n",
    "                      )\n"
   ]
  },
  {
   "cell_type": "markdown",
   "id": "0db4a302",
   "metadata": {},
   "source": [
    "##  Treinar o modelo"
   ]
  },
  {
   "cell_type": "code",
   "execution_count": 19,
   "id": "871f510e",
   "metadata": {},
   "outputs": [],
   "source": [
    "topics, probs = topic_model.fit_transform(tweets)"
   ]
  },
  {
   "cell_type": "code",
   "execution_count": 20,
   "id": "b04a59ec",
   "metadata": {},
   "outputs": [],
   "source": [
    "tweets_df[\"topic\"] = topics\n",
    "tweets_df[\"topic_prob\"] = probs\n"
   ]
  },
  {
   "cell_type": "code",
   "execution_count": 21,
   "id": "915d051f",
   "metadata": {},
   "outputs": [
    {
     "data": {
      "text/html": [
       "<div>\n",
       "<style scoped>\n",
       "    .dataframe tbody tr th:only-of-type {\n",
       "        vertical-align: middle;\n",
       "    }\n",
       "\n",
       "    .dataframe tbody tr th {\n",
       "        vertical-align: top;\n",
       "    }\n",
       "\n",
       "    .dataframe thead th {\n",
       "        text-align: right;\n",
       "    }\n",
       "</style>\n",
       "<table border=\"1\" class=\"dataframe\">\n",
       "  <thead>\n",
       "    <tr style=\"text-align: right;\">\n",
       "      <th></th>\n",
       "      <th>Topic</th>\n",
       "      <th>Count</th>\n",
       "      <th>Name</th>\n",
       "      <th>Representation</th>\n",
       "      <th>Representative_Docs</th>\n",
       "    </tr>\n",
       "  </thead>\n",
       "  <tbody>\n",
       "    <tr>\n",
       "      <th>0</th>\n",
       "      <td>-1</td>\n",
       "      <td>480</td>\n",
       "      <td>-1_tomar_infecção_tratamento_vírus</td>\n",
       "      <td>[tomar, infecção, tratamento, vírus, medicamen...</td>\n",
       "      <td>[amiga gerar algum efeito colateral pessoa dep...</td>\n",
       "    </tr>\n",
       "    <tr>\n",
       "      <th>1</th>\n",
       "      <td>0</td>\n",
       "      <td>276</td>\n",
       "      <td>0_tomar_médico_infecção_remédio</td>\n",
       "      <td>[tomar, médico, infecção, remédio, tratamento,...</td>\n",
       "      <td>[odeio ficar putario tomar médico receitar dps...</td>\n",
       "    </tr>\n",
       "    <tr>\n",
       "      <th>2</th>\n",
       "      <td>1</td>\n",
       "      <td>99</td>\n",
       "      <td>1_gonorreia_pneumoniae_antimicrobiano_brasil</td>\n",
       "      <td>[gonorreia, pneumoniae, antimicrobiano, brasil...</td>\n",
       "      <td>[gene linhagem brasileiro aumentar infectar bo...</td>\n",
       "    </tr>\n",
       "    <tr>\n",
       "      <th>3</th>\n",
       "      <td>2</td>\n",
       "      <td>66</td>\n",
       "      <td>2_msm_nao_foder_amg</td>\n",
       "      <td>[msm, nao, foder, amg, fuder, merda, caralho, ...</td>\n",
       "      <td>[mau fuder culpa dica thata tomir certinho est...</td>\n",
       "    </tr>\n",
       "    <tr>\n",
       "      <th>4</th>\n",
       "      <td>3</td>\n",
       "      <td>56</td>\n",
       "      <td>3_vírus_vacina_mutação_virus</td>\n",
       "      <td>[vírus, vacina, mutação, virus, mutar, fungo, ...</td>\n",
       "      <td>[déiar achar entender analogia vírus criar vír...</td>\n",
       "    </tr>\n",
       "    <tr>\n",
       "      <th>5</th>\n",
       "      <td>4</td>\n",
       "      <td>37</td>\n",
       "      <td>4_mutação_enzima_célula_droga</td>\n",
       "      <td>[mutação, enzima, célula, droga, antibiograma,...</td>\n",
       "      <td>[cientista identificar enzima usar combate car...</td>\n",
       "    </tr>\n",
       "    <tr>\n",
       "      <th>6</th>\n",
       "      <td>5</td>\n",
       "      <td>22</td>\n",
       "      <td>5_nao_direitinho_caralho_medo</td>\n",
       "      <td>[nao, direitinho, caralho, medo, remédio, peri...</td>\n",
       "      <td>[andrea colocar noia cabeça tar perguntar ter ...</td>\n",
       "    </tr>\n",
       "    <tr>\n",
       "      <th>7</th>\n",
       "      <td>6</td>\n",
       "      <td>21</td>\n",
       "      <td>6_brasília_rio_multirresistente_brasil</td>\n",
       "      <td>[brasília, rio, multirresistente, brasil, gast...</td>\n",
       "      <td>[direcinamento rdc anvisa equivocar foco probl...</td>\n",
       "    </tr>\n",
       "    <tr>\n",
       "      <th>8</th>\n",
       "      <td>7</td>\n",
       "      <td>13</td>\n",
       "      <td>7_acne_lactato_lachnospiraceae_diabete</td>\n",
       "      <td>[acne, lactato, lachnospiraceae, diabete, isot...</td>\n",
       "      <td>[hereditariedade problema emocional produto ol...</td>\n",
       "    </tr>\n",
       "    <tr>\n",
       "      <th>9</th>\n",
       "      <td>8</td>\n",
       "      <td>13</td>\n",
       "      <td>8_neonatal_hospital_interditar_óbito</td>\n",
       "      <td>[neonatal, hospital, interditar, óbito, matern...</td>\n",
       "      <td>[alto levar hospital universitário interditar ...</td>\n",
       "    </tr>\n",
       "    <tr>\n",
       "      <th>10</th>\n",
       "      <td>9</td>\n",
       "      <td>13</td>\n",
       "      <td>9_matar_mosca_bazuca_pude</td>\n",
       "      <td>[matar, mosca, bazuca, pude, fago, arsenal, co...</td>\n",
       "      <td>[diagnóstico tiro bazuca mosca matar criar est...</td>\n",
       "    </tr>\n",
       "    <tr>\n",
       "      <th>11</th>\n",
       "      <td>10</td>\n",
       "      <td>12</td>\n",
       "      <td>10_humano_superbactéria_obtuso_aferir</td>\n",
       "      <td>[humano, superbactéria, obtuso, aferir, mentir...</td>\n",
       "      <td>[tônica qr tomar controle referir ganhar criar...</td>\n",
       "    </tr>\n",
       "    <tr>\n",
       "      <th>12</th>\n",
       "      <td>11</td>\n",
       "      <td>12</td>\n",
       "      <td>11_bolsonaro_erisipelo_patati_mour</td>\n",
       "      <td>[bolsonaro, erisipelo, patati, mour, mourão, m...</td>\n",
       "      <td>[ola excia super imune enfrentar santo botão d...</td>\n",
       "    </tr>\n",
       "    <tr>\n",
       "      <th>13</th>\n",
       "      <td>12</td>\n",
       "      <td>12</td>\n",
       "      <td>12_remédio_medicamento_bula_tomar</td>\n",
       "      <td>[remédio, medicamento, bula, tomar, certinho, ...</td>\n",
       "      <td>[tirar fato cortar efeito criar possibilidade ...</td>\n",
       "    </tr>\n",
       "    <tr>\n",
       "      <th>14</th>\n",
       "      <td>13</td>\n",
       "      <td>11</td>\n",
       "      <td>13_caralho_burro_glr_esculhambei</td>\n",
       "      <td>[caralho, burro, glr, esculhambei, gatinho, go...</td>\n",
       "      <td>[dividir cabelo cor impossível preciso ficar c...</td>\n",
       "    </tr>\n",
       "    <tr>\n",
       "      <th>15</th>\n",
       "      <td>14</td>\n",
       "      <td>11</td>\n",
       "      <td>14_inês_merda_infeliz_cansei</td>\n",
       "      <td>[inês, merda, infeliz, cansei, telemedicino, e...</td>\n",
       "      <td>[achar entender camarada pegar tomar remédio p...</td>\n",
       "    </tr>\n",
       "    <tr>\n",
       "      <th>16</th>\n",
       "      <td>15</td>\n",
       "      <td>11</td>\n",
       "      <td>15_brasil_bolsonaro_identitarismo_gueto</td>\n",
       "      <td>[brasil, bolsonaro, identitarismo, gueto, escr...</td>\n",
       "      <td>[cara apelidar população nhonhô dúvida algum l...</td>\n",
       "    </tr>\n",
       "    <tr>\n",
       "      <th>17</th>\n",
       "      <td>16</td>\n",
       "      <td>10</td>\n",
       "      <td>16_veia_pulmonar_acometer_entubar</td>\n",
       "      <td>[veia, pulmonar, acometer, entubar, fratura, ú...</td>\n",
       "      <td>[trabalho emergência venho receber caso sepse ...</td>\n",
       "    </tr>\n",
       "    <tr>\n",
       "      <th>18</th>\n",
       "      <td>17</td>\n",
       "      <td>10</td>\n",
       "      <td>17_vía_descobr_constelaçoe_sincronizar</td>\n",
       "      <td>[vía, descobr, constelaçoe, sincronizar, ifsc,...</td>\n",
       "      <td>[enhum prova bbb chegar desespero estudante br...</td>\n",
       "    </tr>\n",
       "  </tbody>\n",
       "</table>\n",
       "</div>"
      ],
      "text/plain": [
       "    Topic  Count                                          Name  \\\n",
       "0      -1    480            -1_tomar_infecção_tratamento_vírus   \n",
       "1       0    276               0_tomar_médico_infecção_remédio   \n",
       "2       1     99  1_gonorreia_pneumoniae_antimicrobiano_brasil   \n",
       "3       2     66                           2_msm_nao_foder_amg   \n",
       "4       3     56                  3_vírus_vacina_mutação_virus   \n",
       "5       4     37                 4_mutação_enzima_célula_droga   \n",
       "6       5     22                 5_nao_direitinho_caralho_medo   \n",
       "7       6     21        6_brasília_rio_multirresistente_brasil   \n",
       "8       7     13        7_acne_lactato_lachnospiraceae_diabete   \n",
       "9       8     13          8_neonatal_hospital_interditar_óbito   \n",
       "10      9     13                     9_matar_mosca_bazuca_pude   \n",
       "11     10     12         10_humano_superbactéria_obtuso_aferir   \n",
       "12     11     12            11_bolsonaro_erisipelo_patati_mour   \n",
       "13     12     12             12_remédio_medicamento_bula_tomar   \n",
       "14     13     11              13_caralho_burro_glr_esculhambei   \n",
       "15     14     11                  14_inês_merda_infeliz_cansei   \n",
       "16     15     11       15_brasil_bolsonaro_identitarismo_gueto   \n",
       "17     16     10             16_veia_pulmonar_acometer_entubar   \n",
       "18     17     10        17_vía_descobr_constelaçoe_sincronizar   \n",
       "\n",
       "                                       Representation  \\\n",
       "0   [tomar, infecção, tratamento, vírus, medicamen...   \n",
       "1   [tomar, médico, infecção, remédio, tratamento,...   \n",
       "2   [gonorreia, pneumoniae, antimicrobiano, brasil...   \n",
       "3   [msm, nao, foder, amg, fuder, merda, caralho, ...   \n",
       "4   [vírus, vacina, mutação, virus, mutar, fungo, ...   \n",
       "5   [mutação, enzima, célula, droga, antibiograma,...   \n",
       "6   [nao, direitinho, caralho, medo, remédio, peri...   \n",
       "7   [brasília, rio, multirresistente, brasil, gast...   \n",
       "8   [acne, lactato, lachnospiraceae, diabete, isot...   \n",
       "9   [neonatal, hospital, interditar, óbito, matern...   \n",
       "10  [matar, mosca, bazuca, pude, fago, arsenal, co...   \n",
       "11  [humano, superbactéria, obtuso, aferir, mentir...   \n",
       "12  [bolsonaro, erisipelo, patati, mour, mourão, m...   \n",
       "13  [remédio, medicamento, bula, tomar, certinho, ...   \n",
       "14  [caralho, burro, glr, esculhambei, gatinho, go...   \n",
       "15  [inês, merda, infeliz, cansei, telemedicino, e...   \n",
       "16  [brasil, bolsonaro, identitarismo, gueto, escr...   \n",
       "17  [veia, pulmonar, acometer, entubar, fratura, ú...   \n",
       "18  [vía, descobr, constelaçoe, sincronizar, ifsc,...   \n",
       "\n",
       "                                  Representative_Docs  \n",
       "0   [amiga gerar algum efeito colateral pessoa dep...  \n",
       "1   [odeio ficar putario tomar médico receitar dps...  \n",
       "2   [gene linhagem brasileiro aumentar infectar bo...  \n",
       "3   [mau fuder culpa dica thata tomir certinho est...  \n",
       "4   [déiar achar entender analogia vírus criar vír...  \n",
       "5   [cientista identificar enzima usar combate car...  \n",
       "6   [andrea colocar noia cabeça tar perguntar ter ...  \n",
       "7   [direcinamento rdc anvisa equivocar foco probl...  \n",
       "8   [hereditariedade problema emocional produto ol...  \n",
       "9   [alto levar hospital universitário interditar ...  \n",
       "10  [diagnóstico tiro bazuca mosca matar criar est...  \n",
       "11  [tônica qr tomar controle referir ganhar criar...  \n",
       "12  [ola excia super imune enfrentar santo botão d...  \n",
       "13  [tirar fato cortar efeito criar possibilidade ...  \n",
       "14  [dividir cabelo cor impossível preciso ficar c...  \n",
       "15  [achar entender camarada pegar tomar remédio p...  \n",
       "16  [cara apelidar população nhonhô dúvida algum l...  \n",
       "17  [trabalho emergência venho receber caso sepse ...  \n",
       "18  [enhum prova bbb chegar desespero estudante br...  "
      ]
     },
     "execution_count": 21,
     "metadata": {},
     "output_type": "execute_result"
    }
   ],
   "source": [
    "topic_model.get_topic(1) # Exibir os tópicos encontrados\n",
    "topic_model.get_topic_info()"
   ]
  },
  {
   "cell_type": "code",
   "execution_count": null,
   "id": "dfffd4e9",
   "metadata": {},
   "outputs": [],
   "source": [
    "tweets_df\n",
    "tweets_df.to_excel(fr'{caminho_base}\\{nome_da_pasta}\\tweets_processados_vizualization.xlsx', index=False)\n",
    "tweets_df.to_csv(caminho_arquivo, index=False)"
   ]
  },
  {
   "cell_type": "code",
   "execution_count": 14,
   "id": "2c8ee27b",
   "metadata": {},
   "outputs": [
    {
     "data": {
      "application/vnd.plotly.v1+json": {
       "config": {
        "plotlyServerURL": "https://plot.ly"
       },
       "data": [
        {
         "marker": {
          "color": "#D55E00"
         },
         "orientation": "h",
         "type": "bar",
         "x": [
          0.01766727448775708,
          0.01847383305066923,
          0.025485398208767825,
          0.027382482569541726,
          0.02778051619332761
         ],
         "xaxis": "x",
         "y": [
          "tratamento  ",
          "remédio  ",
          "infecção  ",
          "médico  ",
          "tomar  "
         ],
         "yaxis": "y"
        },
        {
         "marker": {
          "color": "#0072B2"
         },
         "orientation": "h",
         "type": "bar",
         "x": [
          0.01958956105306037,
          0.019597434412054582,
          0.027936080902537356,
          0.03405886961969881,
          0.04148659440724896
         ],
         "xaxis": "x2",
         "y": [
          "pneumonia  ",
          "brasil  ",
          "antimicrobiano  ",
          "pneumoniae  ",
          "gonorreia  "
         ],
         "yaxis": "y2"
        },
        {
         "marker": {
          "color": "#CC79A7"
         },
         "orientation": "h",
         "type": "bar",
         "x": [
          0.022118026535712727,
          0.023914798068006508,
          0.03188639742400868,
          0.034262406546452503,
          0.04423605307142545
         ],
         "xaxis": "x3",
         "y": [
          "fuder  ",
          "amg  ",
          "foder  ",
          "nao  ",
          "msm  "
         ],
         "yaxis": "y3"
        },
        {
         "marker": {
          "color": "#E69F00"
         },
         "orientation": "h",
         "type": "bar",
         "x": [
          0.039499944277512904,
          0.04027569127099677,
          0.060325678395200394,
          0.07962162809334607,
          0.09745226000147786
         ],
         "xaxis": "x4",
         "y": [
          "mutar  ",
          "virus  ",
          "mutação  ",
          "vacina  ",
          "vírus  "
         ],
         "yaxis": "y4"
        },
        {
         "marker": {
          "color": "#56B4E9"
         },
         "orientation": "h",
         "type": "bar",
         "x": [
          0.034990751663080896,
          0.03665096594126442,
          0.03665096594126442,
          0.048675867114442585,
          0.05965943094304457
         ],
         "xaxis": "x5",
         "y": [
          "antibiograma  ",
          "droga  ",
          "célula  ",
          "enzima  ",
          "mutação  "
         ],
         "yaxis": "y5"
        },
        {
         "marker": {
          "color": "#009E73"
         },
         "orientation": "h",
         "type": "bar",
         "x": [
          0.030211574137448148,
          0.03242172528394717,
          0.03566842962937326,
          0.048360997965227394,
          0.07553546146922217
         ],
         "xaxis": "x6",
         "y": [
          "remédio  ",
          "medo  ",
          "caralho  ",
          "direitinho  ",
          "nao  "
         ],
         "yaxis": "y6"
        },
        {
         "marker": {
          "color": "#F0E442"
         },
         "orientation": "h",
         "type": "bar",
         "x": [
          0.04145824020800236,
          0.044619158706017126,
          0.05703806574609276,
          0.06286412345915525,
          0.07426857721627177
         ],
         "xaxis": "x7",
         "y": [
          "gast  ",
          "brasil  ",
          "multirresistente  ",
          "rio  ",
          "brasília  "
         ],
         "yaxis": "y7"
        },
        {
         "marker": {
          "color": "#D55E00"
         },
         "orientation": "h",
         "type": "bar",
         "x": [
          0.038565804844653356,
          0.038565804844653356,
          0.038565804844653356,
          0.038565804844653356,
          0.21223466324127538
         ],
         "xaxis": "x8",
         "y": [
          "isotretinoína  ",
          "diabete  ",
          "lachnospiraceae  ",
          "lactato  ",
          "acne  "
         ],
         "yaxis": "y8"
        },
        {
         "marker": {
          "color": "#0072B2"
         },
         "orientation": "h",
         "type": "bar",
         "x": [
          0.15881462768628696,
          0.1976956640288538,
          0.26469104614381156,
          0.28596760591454173,
          0.3061968230272725
         ],
         "xaxis": "x9",
         "y": [
          "maternidade  ",
          "óbito  ",
          "interditar  ",
          "hospital  ",
          "neonatal  "
         ],
         "yaxis": "y9"
        },
        {
         "marker": {
          "color": "#CC79A7"
         },
         "orientation": "h",
         "type": "bar",
         "x": [
          0.06503253365961154,
          0.06503253365961154,
          0.06503253365961154,
          0.06503253365961154,
          0.08541662000083826
         ],
         "xaxis": "x10",
         "y": [
          "fago  ",
          "pude  ",
          "bazuca  ",
          "mosca  ",
          "matar  "
         ],
         "yaxis": "y10"
        },
        {
         "marker": {
          "color": "#E69F00"
         },
         "orientation": "h",
         "type": "bar",
         "x": [
          0.042521272008207545,
          0.042521272008207545,
          0.042521272008207545,
          0.04898639969393593,
          0.08834700501236428
         ],
         "xaxis": "x11",
         "y": [
          "mentira  ",
          "aferir  ",
          "obtuso  ",
          "superbactéria  ",
          "humano  "
         ],
         "yaxis": "y11"
        },
        {
         "marker": {
          "color": "#56B4E9"
         },
         "orientation": "h",
         "type": "bar",
         "x": [
          0.05063601857465937,
          0.05063601857465937,
          0.05063601857465937,
          0.05063601857465937,
          0.16215630694844885
         ],
         "xaxis": "x12",
         "y": [
          "mourão  ",
          "mour  ",
          "patati  ",
          "erisipelo  ",
          "bolsonaro  "
         ],
         "yaxis": "y12"
        },
        {
         "marker": {
          "color": "#009E73"
         },
         "orientation": "h",
         "type": "bar",
         "x": [
          0.06566814014944444,
          0.07172916694652648,
          0.07744523450375576,
          0.08297605747552042,
          0.11288846932943912
         ],
         "xaxis": "x13",
         "y": [
          "certinho  ",
          "tomar  ",
          "bula  ",
          "medicamento  ",
          "remédio  "
         ],
         "yaxis": "y13"
        },
        {
         "marker": {
          "color": "#F0E442"
         },
         "orientation": "h",
         "type": "bar",
         "x": [
          0.0562145629939015,
          0.0562145629939015,
          0.0562145629939015,
          0.11600962524629037,
          0.1384418709343471
         ],
         "xaxis": "x14",
         "y": [
          "gatinho  ",
          "esculhambei  ",
          "glr  ",
          "burro  ",
          "caralho  "
         ],
         "yaxis": "y14"
        }
       ],
       "layout": {
        "annotations": [
         {
          "font": {
           "size": 16
          },
          "showarrow": false,
          "text": "Topic 0",
          "x": 0.0875,
          "xanchor": "center",
          "xref": "paper",
          "y": 1,
          "yanchor": "bottom",
          "yref": "paper"
         },
         {
          "font": {
           "size": 16
          },
          "showarrow": false,
          "text": "Topic 1",
          "x": 0.36250000000000004,
          "xanchor": "center",
          "xref": "paper",
          "y": 1,
          "yanchor": "bottom",
          "yref": "paper"
         },
         {
          "font": {
           "size": 16
          },
          "showarrow": false,
          "text": "Topic 2",
          "x": 0.6375000000000001,
          "xanchor": "center",
          "xref": "paper",
          "y": 1,
          "yanchor": "bottom",
          "yref": "paper"
         },
         {
          "font": {
           "size": 16
          },
          "showarrow": false,
          "text": "Topic 3",
          "x": 0.9125,
          "xanchor": "center",
          "xref": "paper",
          "y": 1,
          "yanchor": "bottom",
          "yref": "paper"
         },
         {
          "font": {
           "size": 16
          },
          "showarrow": false,
          "text": "Topic 4",
          "x": 0.0875,
          "xanchor": "center",
          "xref": "paper",
          "y": 0.7250000000000001,
          "yanchor": "bottom",
          "yref": "paper"
         },
         {
          "font": {
           "size": 16
          },
          "showarrow": false,
          "text": "Topic 5",
          "x": 0.36250000000000004,
          "xanchor": "center",
          "xref": "paper",
          "y": 0.7250000000000001,
          "yanchor": "bottom",
          "yref": "paper"
         },
         {
          "font": {
           "size": 16
          },
          "showarrow": false,
          "text": "Topic 6",
          "x": 0.6375000000000001,
          "xanchor": "center",
          "xref": "paper",
          "y": 0.7250000000000001,
          "yanchor": "bottom",
          "yref": "paper"
         },
         {
          "font": {
           "size": 16
          },
          "showarrow": false,
          "text": "Topic 7",
          "x": 0.9125,
          "xanchor": "center",
          "xref": "paper",
          "y": 0.7250000000000001,
          "yanchor": "bottom",
          "yref": "paper"
         },
         {
          "font": {
           "size": 16
          },
          "showarrow": false,
          "text": "Topic 8",
          "x": 0.0875,
          "xanchor": "center",
          "xref": "paper",
          "y": 0.45,
          "yanchor": "bottom",
          "yref": "paper"
         },
         {
          "font": {
           "size": 16
          },
          "showarrow": false,
          "text": "Topic 9",
          "x": 0.36250000000000004,
          "xanchor": "center",
          "xref": "paper",
          "y": 0.45,
          "yanchor": "bottom",
          "yref": "paper"
         },
         {
          "font": {
           "size": 16
          },
          "showarrow": false,
          "text": "Topic 10",
          "x": 0.6375000000000001,
          "xanchor": "center",
          "xref": "paper",
          "y": 0.45,
          "yanchor": "bottom",
          "yref": "paper"
         },
         {
          "font": {
           "size": 16
          },
          "showarrow": false,
          "text": "Topic 11",
          "x": 0.9125,
          "xanchor": "center",
          "xref": "paper",
          "y": 0.45,
          "yanchor": "bottom",
          "yref": "paper"
         },
         {
          "font": {
           "size": 16
          },
          "showarrow": false,
          "text": "Topic 12",
          "x": 0.0875,
          "xanchor": "center",
          "xref": "paper",
          "y": 0.175,
          "yanchor": "bottom",
          "yref": "paper"
         },
         {
          "font": {
           "size": 16
          },
          "showarrow": false,
          "text": "Topic 13",
          "x": 0.36250000000000004,
          "xanchor": "center",
          "xref": "paper",
          "y": 0.175,
          "yanchor": "bottom",
          "yref": "paper"
         }
        ],
        "height": 1000,
        "hoverlabel": {
         "bgcolor": "white",
         "font": {
          "family": "Rockwell",
          "size": 16
         }
        },
        "showlegend": false,
        "template": {
         "data": {
          "bar": [
           {
            "error_x": {
             "color": "#2a3f5f"
            },
            "error_y": {
             "color": "#2a3f5f"
            },
            "marker": {
             "line": {
              "color": "white",
              "width": 0.5
             },
             "pattern": {
              "fillmode": "overlay",
              "size": 10,
              "solidity": 0.2
             }
            },
            "type": "bar"
           }
          ],
          "barpolar": [
           {
            "marker": {
             "line": {
              "color": "white",
              "width": 0.5
             },
             "pattern": {
              "fillmode": "overlay",
              "size": 10,
              "solidity": 0.2
             }
            },
            "type": "barpolar"
           }
          ],
          "carpet": [
           {
            "aaxis": {
             "endlinecolor": "#2a3f5f",
             "gridcolor": "#C8D4E3",
             "linecolor": "#C8D4E3",
             "minorgridcolor": "#C8D4E3",
             "startlinecolor": "#2a3f5f"
            },
            "baxis": {
             "endlinecolor": "#2a3f5f",
             "gridcolor": "#C8D4E3",
             "linecolor": "#C8D4E3",
             "minorgridcolor": "#C8D4E3",
             "startlinecolor": "#2a3f5f"
            },
            "type": "carpet"
           }
          ],
          "choropleth": [
           {
            "colorbar": {
             "outlinewidth": 0,
             "ticks": ""
            },
            "type": "choropleth"
           }
          ],
          "contour": [
           {
            "colorbar": {
             "outlinewidth": 0,
             "ticks": ""
            },
            "colorscale": [
             [
              0,
              "#0d0887"
             ],
             [
              0.1111111111111111,
              "#46039f"
             ],
             [
              0.2222222222222222,
              "#7201a8"
             ],
             [
              0.3333333333333333,
              "#9c179e"
             ],
             [
              0.4444444444444444,
              "#bd3786"
             ],
             [
              0.5555555555555556,
              "#d8576b"
             ],
             [
              0.6666666666666666,
              "#ed7953"
             ],
             [
              0.7777777777777778,
              "#fb9f3a"
             ],
             [
              0.8888888888888888,
              "#fdca26"
             ],
             [
              1,
              "#f0f921"
             ]
            ],
            "type": "contour"
           }
          ],
          "contourcarpet": [
           {
            "colorbar": {
             "outlinewidth": 0,
             "ticks": ""
            },
            "type": "contourcarpet"
           }
          ],
          "heatmap": [
           {
            "colorbar": {
             "outlinewidth": 0,
             "ticks": ""
            },
            "colorscale": [
             [
              0,
              "#0d0887"
             ],
             [
              0.1111111111111111,
              "#46039f"
             ],
             [
              0.2222222222222222,
              "#7201a8"
             ],
             [
              0.3333333333333333,
              "#9c179e"
             ],
             [
              0.4444444444444444,
              "#bd3786"
             ],
             [
              0.5555555555555556,
              "#d8576b"
             ],
             [
              0.6666666666666666,
              "#ed7953"
             ],
             [
              0.7777777777777778,
              "#fb9f3a"
             ],
             [
              0.8888888888888888,
              "#fdca26"
             ],
             [
              1,
              "#f0f921"
             ]
            ],
            "type": "heatmap"
           }
          ],
          "histogram": [
           {
            "marker": {
             "pattern": {
              "fillmode": "overlay",
              "size": 10,
              "solidity": 0.2
             }
            },
            "type": "histogram"
           }
          ],
          "histogram2d": [
           {
            "colorbar": {
             "outlinewidth": 0,
             "ticks": ""
            },
            "colorscale": [
             [
              0,
              "#0d0887"
             ],
             [
              0.1111111111111111,
              "#46039f"
             ],
             [
              0.2222222222222222,
              "#7201a8"
             ],
             [
              0.3333333333333333,
              "#9c179e"
             ],
             [
              0.4444444444444444,
              "#bd3786"
             ],
             [
              0.5555555555555556,
              "#d8576b"
             ],
             [
              0.6666666666666666,
              "#ed7953"
             ],
             [
              0.7777777777777778,
              "#fb9f3a"
             ],
             [
              0.8888888888888888,
              "#fdca26"
             ],
             [
              1,
              "#f0f921"
             ]
            ],
            "type": "histogram2d"
           }
          ],
          "histogram2dcontour": [
           {
            "colorbar": {
             "outlinewidth": 0,
             "ticks": ""
            },
            "colorscale": [
             [
              0,
              "#0d0887"
             ],
             [
              0.1111111111111111,
              "#46039f"
             ],
             [
              0.2222222222222222,
              "#7201a8"
             ],
             [
              0.3333333333333333,
              "#9c179e"
             ],
             [
              0.4444444444444444,
              "#bd3786"
             ],
             [
              0.5555555555555556,
              "#d8576b"
             ],
             [
              0.6666666666666666,
              "#ed7953"
             ],
             [
              0.7777777777777778,
              "#fb9f3a"
             ],
             [
              0.8888888888888888,
              "#fdca26"
             ],
             [
              1,
              "#f0f921"
             ]
            ],
            "type": "histogram2dcontour"
           }
          ],
          "mesh3d": [
           {
            "colorbar": {
             "outlinewidth": 0,
             "ticks": ""
            },
            "type": "mesh3d"
           }
          ],
          "parcoords": [
           {
            "line": {
             "colorbar": {
              "outlinewidth": 0,
              "ticks": ""
             }
            },
            "type": "parcoords"
           }
          ],
          "pie": [
           {
            "automargin": true,
            "type": "pie"
           }
          ],
          "scatter": [
           {
            "fillpattern": {
             "fillmode": "overlay",
             "size": 10,
             "solidity": 0.2
            },
            "type": "scatter"
           }
          ],
          "scatter3d": [
           {
            "line": {
             "colorbar": {
              "outlinewidth": 0,
              "ticks": ""
             }
            },
            "marker": {
             "colorbar": {
              "outlinewidth": 0,
              "ticks": ""
             }
            },
            "type": "scatter3d"
           }
          ],
          "scattercarpet": [
           {
            "marker": {
             "colorbar": {
              "outlinewidth": 0,
              "ticks": ""
             }
            },
            "type": "scattercarpet"
           }
          ],
          "scattergeo": [
           {
            "marker": {
             "colorbar": {
              "outlinewidth": 0,
              "ticks": ""
             }
            },
            "type": "scattergeo"
           }
          ],
          "scattergl": [
           {
            "marker": {
             "colorbar": {
              "outlinewidth": 0,
              "ticks": ""
             }
            },
            "type": "scattergl"
           }
          ],
          "scattermap": [
           {
            "marker": {
             "colorbar": {
              "outlinewidth": 0,
              "ticks": ""
             }
            },
            "type": "scattermap"
           }
          ],
          "scattermapbox": [
           {
            "marker": {
             "colorbar": {
              "outlinewidth": 0,
              "ticks": ""
             }
            },
            "type": "scattermapbox"
           }
          ],
          "scatterpolar": [
           {
            "marker": {
             "colorbar": {
              "outlinewidth": 0,
              "ticks": ""
             }
            },
            "type": "scatterpolar"
           }
          ],
          "scatterpolargl": [
           {
            "marker": {
             "colorbar": {
              "outlinewidth": 0,
              "ticks": ""
             }
            },
            "type": "scatterpolargl"
           }
          ],
          "scatterternary": [
           {
            "marker": {
             "colorbar": {
              "outlinewidth": 0,
              "ticks": ""
             }
            },
            "type": "scatterternary"
           }
          ],
          "surface": [
           {
            "colorbar": {
             "outlinewidth": 0,
             "ticks": ""
            },
            "colorscale": [
             [
              0,
              "#0d0887"
             ],
             [
              0.1111111111111111,
              "#46039f"
             ],
             [
              0.2222222222222222,
              "#7201a8"
             ],
             [
              0.3333333333333333,
              "#9c179e"
             ],
             [
              0.4444444444444444,
              "#bd3786"
             ],
             [
              0.5555555555555556,
              "#d8576b"
             ],
             [
              0.6666666666666666,
              "#ed7953"
             ],
             [
              0.7777777777777778,
              "#fb9f3a"
             ],
             [
              0.8888888888888888,
              "#fdca26"
             ],
             [
              1,
              "#f0f921"
             ]
            ],
            "type": "surface"
           }
          ],
          "table": [
           {
            "cells": {
             "fill": {
              "color": "#EBF0F8"
             },
             "line": {
              "color": "white"
             }
            },
            "header": {
             "fill": {
              "color": "#C8D4E3"
             },
             "line": {
              "color": "white"
             }
            },
            "type": "table"
           }
          ]
         },
         "layout": {
          "annotationdefaults": {
           "arrowcolor": "#2a3f5f",
           "arrowhead": 0,
           "arrowwidth": 1
          },
          "autotypenumbers": "strict",
          "coloraxis": {
           "colorbar": {
            "outlinewidth": 0,
            "ticks": ""
           }
          },
          "colorscale": {
           "diverging": [
            [
             0,
             "#8e0152"
            ],
            [
             0.1,
             "#c51b7d"
            ],
            [
             0.2,
             "#de77ae"
            ],
            [
             0.3,
             "#f1b6da"
            ],
            [
             0.4,
             "#fde0ef"
            ],
            [
             0.5,
             "#f7f7f7"
            ],
            [
             0.6,
             "#e6f5d0"
            ],
            [
             0.7,
             "#b8e186"
            ],
            [
             0.8,
             "#7fbc41"
            ],
            [
             0.9,
             "#4d9221"
            ],
            [
             1,
             "#276419"
            ]
           ],
           "sequential": [
            [
             0,
             "#0d0887"
            ],
            [
             0.1111111111111111,
             "#46039f"
            ],
            [
             0.2222222222222222,
             "#7201a8"
            ],
            [
             0.3333333333333333,
             "#9c179e"
            ],
            [
             0.4444444444444444,
             "#bd3786"
            ],
            [
             0.5555555555555556,
             "#d8576b"
            ],
            [
             0.6666666666666666,
             "#ed7953"
            ],
            [
             0.7777777777777778,
             "#fb9f3a"
            ],
            [
             0.8888888888888888,
             "#fdca26"
            ],
            [
             1,
             "#f0f921"
            ]
           ],
           "sequentialminus": [
            [
             0,
             "#0d0887"
            ],
            [
             0.1111111111111111,
             "#46039f"
            ],
            [
             0.2222222222222222,
             "#7201a8"
            ],
            [
             0.3333333333333333,
             "#9c179e"
            ],
            [
             0.4444444444444444,
             "#bd3786"
            ],
            [
             0.5555555555555556,
             "#d8576b"
            ],
            [
             0.6666666666666666,
             "#ed7953"
            ],
            [
             0.7777777777777778,
             "#fb9f3a"
            ],
            [
             0.8888888888888888,
             "#fdca26"
            ],
            [
             1,
             "#f0f921"
            ]
           ]
          },
          "colorway": [
           "#636efa",
           "#EF553B",
           "#00cc96",
           "#ab63fa",
           "#FFA15A",
           "#19d3f3",
           "#FF6692",
           "#B6E880",
           "#FF97FF",
           "#FECB52"
          ],
          "font": {
           "color": "#2a3f5f"
          },
          "geo": {
           "bgcolor": "white",
           "lakecolor": "white",
           "landcolor": "white",
           "showlakes": true,
           "showland": true,
           "subunitcolor": "#C8D4E3"
          },
          "hoverlabel": {
           "align": "left"
          },
          "hovermode": "closest",
          "mapbox": {
           "style": "light"
          },
          "paper_bgcolor": "white",
          "plot_bgcolor": "white",
          "polar": {
           "angularaxis": {
            "gridcolor": "#EBF0F8",
            "linecolor": "#EBF0F8",
            "ticks": ""
           },
           "bgcolor": "white",
           "radialaxis": {
            "gridcolor": "#EBF0F8",
            "linecolor": "#EBF0F8",
            "ticks": ""
           }
          },
          "scene": {
           "xaxis": {
            "backgroundcolor": "white",
            "gridcolor": "#DFE8F3",
            "gridwidth": 2,
            "linecolor": "#EBF0F8",
            "showbackground": true,
            "ticks": "",
            "zerolinecolor": "#EBF0F8"
           },
           "yaxis": {
            "backgroundcolor": "white",
            "gridcolor": "#DFE8F3",
            "gridwidth": 2,
            "linecolor": "#EBF0F8",
            "showbackground": true,
            "ticks": "",
            "zerolinecolor": "#EBF0F8"
           },
           "zaxis": {
            "backgroundcolor": "white",
            "gridcolor": "#DFE8F3",
            "gridwidth": 2,
            "linecolor": "#EBF0F8",
            "showbackground": true,
            "ticks": "",
            "zerolinecolor": "#EBF0F8"
           }
          },
          "shapedefaults": {
           "line": {
            "color": "#2a3f5f"
           }
          },
          "ternary": {
           "aaxis": {
            "gridcolor": "#DFE8F3",
            "linecolor": "#A2B1C6",
            "ticks": ""
           },
           "baxis": {
            "gridcolor": "#DFE8F3",
            "linecolor": "#A2B1C6",
            "ticks": ""
           },
           "bgcolor": "white",
           "caxis": {
            "gridcolor": "#DFE8F3",
            "linecolor": "#A2B1C6",
            "ticks": ""
           }
          },
          "title": {
           "x": 0.05
          },
          "xaxis": {
           "automargin": true,
           "gridcolor": "#EBF0F8",
           "linecolor": "#EBF0F8",
           "ticks": "",
           "title": {
            "standoff": 15
           },
           "zerolinecolor": "#EBF0F8",
           "zerolinewidth": 2
          },
          "yaxis": {
           "automargin": true,
           "gridcolor": "#EBF0F8",
           "linecolor": "#EBF0F8",
           "ticks": "",
           "title": {
            "standoff": 15
           },
           "zerolinecolor": "#EBF0F8",
           "zerolinewidth": 2
          }
         }
        },
        "title": {
         "font": {
          "color": "Black",
          "size": 22
         },
         "text": "Topic Word Scores",
         "x": 0.5,
         "xanchor": "center",
         "yanchor": "top"
        },
        "width": 1000,
        "xaxis": {
         "anchor": "y",
         "domain": [
          0,
          0.175
         ],
         "showgrid": true
        },
        "xaxis10": {
         "anchor": "y10",
         "domain": [
          0.275,
          0.45
         ],
         "showgrid": true
        },
        "xaxis11": {
         "anchor": "y11",
         "domain": [
          0.55,
          0.7250000000000001
         ],
         "showgrid": true
        },
        "xaxis12": {
         "anchor": "y12",
         "domain": [
          0.825,
          1
         ],
         "showgrid": true
        },
        "xaxis13": {
         "anchor": "y13",
         "domain": [
          0,
          0.175
         ],
         "showgrid": true
        },
        "xaxis14": {
         "anchor": "y14",
         "domain": [
          0.275,
          0.45
         ],
         "showgrid": true
        },
        "xaxis15": {
         "anchor": "y15",
         "domain": [
          0.55,
          0.7250000000000001
         ],
         "showgrid": true
        },
        "xaxis16": {
         "anchor": "y16",
         "domain": [
          0.825,
          1
         ],
         "showgrid": true
        },
        "xaxis2": {
         "anchor": "y2",
         "domain": [
          0.275,
          0.45
         ],
         "showgrid": true
        },
        "xaxis3": {
         "anchor": "y3",
         "domain": [
          0.55,
          0.7250000000000001
         ],
         "showgrid": true
        },
        "xaxis4": {
         "anchor": "y4",
         "domain": [
          0.825,
          1
         ],
         "showgrid": true
        },
        "xaxis5": {
         "anchor": "y5",
         "domain": [
          0,
          0.175
         ],
         "showgrid": true
        },
        "xaxis6": {
         "anchor": "y6",
         "domain": [
          0.275,
          0.45
         ],
         "showgrid": true
        },
        "xaxis7": {
         "anchor": "y7",
         "domain": [
          0.55,
          0.7250000000000001
         ],
         "showgrid": true
        },
        "xaxis8": {
         "anchor": "y8",
         "domain": [
          0.825,
          1
         ],
         "showgrid": true
        },
        "xaxis9": {
         "anchor": "y9",
         "domain": [
          0,
          0.175
         ],
         "showgrid": true
        },
        "yaxis": {
         "anchor": "x",
         "domain": [
          0.825,
          1
         ],
         "showgrid": true
        },
        "yaxis10": {
         "anchor": "x10",
         "domain": [
          0.275,
          0.45
         ],
         "showgrid": true
        },
        "yaxis11": {
         "anchor": "x11",
         "domain": [
          0.275,
          0.45
         ],
         "showgrid": true
        },
        "yaxis12": {
         "anchor": "x12",
         "domain": [
          0.275,
          0.45
         ],
         "showgrid": true
        },
        "yaxis13": {
         "anchor": "x13",
         "domain": [
          0,
          0.175
         ],
         "showgrid": true
        },
        "yaxis14": {
         "anchor": "x14",
         "domain": [
          0,
          0.175
         ],
         "showgrid": true
        },
        "yaxis15": {
         "anchor": "x15",
         "domain": [
          0,
          0.175
         ],
         "showgrid": true
        },
        "yaxis16": {
         "anchor": "x16",
         "domain": [
          0,
          0.175
         ],
         "showgrid": true
        },
        "yaxis2": {
         "anchor": "x2",
         "domain": [
          0.825,
          1
         ],
         "showgrid": true
        },
        "yaxis3": {
         "anchor": "x3",
         "domain": [
          0.825,
          1
         ],
         "showgrid": true
        },
        "yaxis4": {
         "anchor": "x4",
         "domain": [
          0.825,
          1
         ],
         "showgrid": true
        },
        "yaxis5": {
         "anchor": "x5",
         "domain": [
          0.55,
          0.7250000000000001
         ],
         "showgrid": true
        },
        "yaxis6": {
         "anchor": "x6",
         "domain": [
          0.55,
          0.7250000000000001
         ],
         "showgrid": true
        },
        "yaxis7": {
         "anchor": "x7",
         "domain": [
          0.55,
          0.7250000000000001
         ],
         "showgrid": true
        },
        "yaxis8": {
         "anchor": "x8",
         "domain": [
          0.55,
          0.7250000000000001
         ],
         "showgrid": true
        },
        "yaxis9": {
         "anchor": "x9",
         "domain": [
          0.275,
          0.45
         ],
         "showgrid": true
        }
       }
      }
     },
     "metadata": {},
     "output_type": "display_data"
    }
   ],
   "source": [
    "topic_model.visualize_barchart(top_n_topics=14)"
   ]
  },
  {
   "cell_type": "markdown",
   "id": "a85cdaf6",
   "metadata": {},
   "source": [
    "# Remover Categorias específicas do DataSet"
   ]
  },
  {
   "cell_type": "code",
   "execution_count": null,
   "id": "bea07741",
   "metadata": {},
   "outputs": [],
   "source": [
    "tweets_df = tweets_df[tweets_df[\"topic\"] != 1]  # Remover tópicos de ruído\n",
    "print(tweets_df)\n",
    "tweets_df.to_csv(fr'{caminho_base}\\{nome_da_pasta}\\{nome_do_arquivo}', index=False)"
   ]
  },
  {
   "cell_type": "code",
   "execution_count": 45,
   "id": "a093653d",
   "metadata": {},
   "outputs": [
    {
     "name": "stderr",
     "output_type": "stream",
     "text": [
      "2025-06-17 16:11:04,680 - BERTopic - WARNING: When you use `pickle` to save/load a BERTopic model,please make sure that the environments in which you saveand load the model are **exactly** the same. The version of BERTopic,its dependencies, and python need to remain the same.\n"
     ]
    }
   ],
   "source": [
    "topic_model.save(\"meu_modelo_bertopic\")"
   ]
  },
  {
   "cell_type": "markdown",
   "id": "6ae8d30d",
   "metadata": {},
   "source": [
    "# Metricas de Avaliação"
   ]
  },
  {
   "cell_type": "code",
   "execution_count": 50,
   "id": "b4f428a5",
   "metadata": {},
   "outputs": [],
   "source": [
    "from bertopic import BERTopic\n",
    "from gensim.models.coherencemodel import CoherenceModel\n",
    "from gensim.corpora import Dictionary\n",
    "from sklearn.feature_extraction.text import CountVectorizer\n",
    "from collections import Counter\n",
    "import numpy as np\n",
    "import gensim"
   ]
  },
  {
   "cell_type": "code",
   "execution_count": null,
   "id": "762e9d02",
   "metadata": {},
   "outputs": [],
   "source": [
    "\n",
    "\n",
    "docs = tweets_df[\"tokens\"].tolist()\n",
    "\n",
    "\n",
    "topics = topic_model.get_topics()\n",
    "top_n = 10  \n",
    "topic_words = [[word for word, _ in topics[i][:top_n]] for i in topics if i != -1]\n",
    "\n",
    "# Obter representações dos documentos tokenizados (pré-processados)\n",
    "# Você pode usar diretamente os documentos processados se já tiver isso salvo\n",
    "tokenized_docs = [doc.split() for doc in docs]\n",
    "\n",
    "# Criar dicionário e corpus no formato Gensim\n",
    "dictionary = Dictionary(tokenized_docs)\n",
    "corpus = [dictionary.doc2bow(text) for text in tokenized_docs]\n",
    "\n",
    "# Calcular Coerência\n",
    "coherence_model = CoherenceModel(\n",
    "    topics=topic_words,\n",
    "    texts=tokenized_docs,\n",
    "    dictionary=dictionary,\n",
    "    coherence='c_v'\n",
    ")\n",
    "coherence_score = coherence_model.get_coherence()\n",
    "\n",
    "\n"
   ]
  },
  {
   "cell_type": "code",
   "execution_count": 116,
   "id": "9c7dcc4c",
   "metadata": {},
   "outputs": [],
   "source": [
    "# Calcular Diversidade\n",
    "all_words = [word for topic in topic_words for word in topic]\n",
    "unique_words = set(all_words)\n",
    "diversity_score = len(unique_words) / len(all_words)\n",
    "\n"
   ]
  },
  {
   "cell_type": "code",
   "execution_count": 15,
   "id": "bd3a41fc",
   "metadata": {},
   "outputs": [
    {
     "ename": "NameError",
     "evalue": "name 'coherence_score' is not defined",
     "output_type": "error",
     "traceback": [
      "\u001b[31m---------------------------------------------------------------------------\u001b[39m",
      "\u001b[31mNameError\u001b[39m                                 Traceback (most recent call last)",
      "\u001b[36mCell\u001b[39m\u001b[36m \u001b[39m\u001b[32mIn[15]\u001b[39m\u001b[32m, line 2\u001b[39m\n\u001b[32m      1\u001b[39m \u001b[38;5;66;03m# Resultados\u001b[39;00m\n\u001b[32m----> \u001b[39m\u001b[32m2\u001b[39m \u001b[38;5;28mprint\u001b[39m(\u001b[33mf\u001b[39m\u001b[33m\"\u001b[39m\u001b[33mCoerência (C_V): \u001b[39m\u001b[38;5;132;01m{\u001b[39;00m\u001b[43mcoherence_score\u001b[49m\u001b[38;5;132;01m:\u001b[39;00m\u001b[33m.4f\u001b[39m\u001b[38;5;132;01m}\u001b[39;00m\u001b[33m\"\u001b[39m)\n\u001b[32m      3\u001b[39m \u001b[38;5;28mprint\u001b[39m(\u001b[33mf\u001b[39m\u001b[33m\"\u001b[39m\u001b[33mDiversidade: \u001b[39m\u001b[38;5;132;01m{\u001b[39;00mdiversity_score\u001b[38;5;132;01m:\u001b[39;00m\u001b[33m.4f\u001b[39m\u001b[38;5;132;01m}\u001b[39;00m\u001b[33m\"\u001b[39m)\n",
      "\u001b[31mNameError\u001b[39m: name 'coherence_score' is not defined"
     ]
    }
   ],
   "source": [
    "# Resultados\n",
    "print(f\"Coerência (C_V): {coherence_score:.4f}\")\n",
    "print(f\"Diversidade: {diversity_score:.4f}\")"
   ]
  }
 ],
 "metadata": {
  "kernelspec": {
   "display_name": ".venv",
   "language": "python",
   "name": "python3"
  },
  "language_info": {
   "codemirror_mode": {
    "name": "ipython",
    "version": 3
   },
   "file_extension": ".py",
   "mimetype": "text/x-python",
   "name": "python",
   "nbconvert_exporter": "python",
   "pygments_lexer": "ipython3",
   "version": "3.12.7"
  }
 },
 "nbformat": 4,
 "nbformat_minor": 5
}
