{
 "cells": [
  {
   "cell_type": "code",
   "execution_count": null,
   "id": "54394601",
   "metadata": {},
   "outputs": [
    {
     "name": "stderr",
     "output_type": "stream",
     "text": [
      "c:\\Users\\Pessoal\\Documents\\Unifesp\\Aries\\aries_topic_selector\\.venv\\Lib\\site-packages\\tqdm\\auto.py:21: TqdmWarning: IProgress not found. Please update jupyter and ipywidgets. See https://ipywidgets.readthedocs.io/en/stable/user_install.html\n",
      "  from .autonotebook import tqdm as notebook_tqdm\n"
     ]
    }
   ],
   "source": [
    "import pandas as pd\n",
    "import numpy as np\n",
    "import matplotlib.pyplot as plt\n",
    "import re\n",
    "from bertopic import BERTopic\n",
    "from sentence_transformers import SentenceTransformer\n",
    "from transformers import AutoTokenizer, AutoModelForMaskedLM"
   ]
  },
  {
   "cell_type": "markdown",
   "id": "842e3d9d",
   "metadata": {},
   "source": [
    "Mostramos o diretório do arquivo CSV e definimos o dataframe utilizando a coluna de tweets limpos"
   ]
  },
  {
   "cell_type": "code",
   "execution_count": 21,
   "id": "741c81af",
   "metadata": {},
   "outputs": [],
   "source": [
    "caminho_arquivo = r'C:\\Users\\Pessoal\\Documents\\Unifesp\\Aries\\aries_topic_selector\\Noise_remover\\tweets_processados.csv'\n",
    "tweets_df = pd.read_csv(caminho_arquivo)\n",
    "tweets_df.dropna(axis='columns', inplace=True)\n",
    "tweets = tweets_df[\"clean_tweet\"].tolist()"
   ]
  },
  {
   "cell_type": "markdown",
   "id": "63b1d58b",
   "metadata": {},
   "source": [
    "# BERTimbau Base para Topic Modeling"
   ]
  },
  {
   "cell_type": "markdown",
   "id": "f7c80bfa",
   "metadata": {},
   "source": [
    "Primeiro definimos o modelo de embedding, no caso, o BERTimbau"
   ]
  },
  {
   "cell_type": "code",
   "execution_count": 11,
   "id": "5d887b9b",
   "metadata": {},
   "outputs": [
    {
     "name": "stderr",
     "output_type": "stream",
     "text": [
      "No sentence-transformers model found with name neuralmind/bert-base-portuguese-cased. Creating a new one with mean pooling.\n"
     ]
    }
   ],
   "source": [
    "embedding_model = SentenceTransformer(\"neuralmind/bert-base-portuguese-cased\")"
   ]
  },
  {
   "cell_type": "markdown",
   "id": "120eb142",
   "metadata": {},
   "source": [
    "Treinamos os modelos nos Tweets já tokenizados"
   ]
  },
  {
   "cell_type": "code",
   "execution_count": 23,
   "id": "269ab3e4",
   "metadata": {},
   "outputs": [],
   "source": [
    "topic_model = BERTopic(embedding_model=embedding_model, language=\"portuguese\")\n",
    "topics, probs = topic_model.fit_transform(tweets)"
   ]
  },
  {
   "cell_type": "code",
   "execution_count": 24,
   "id": "b04a59ec",
   "metadata": {},
   "outputs": [],
   "source": [
    "tweets_df[\"topic\"] = topics\n",
    "tweets_df[\"topic_prob\"] = probs\n"
   ]
  },
  {
   "cell_type": "code",
   "execution_count": 37,
   "id": "915d051f",
   "metadata": {},
   "outputs": [
    {
     "data": {
      "text/html": [
       "<div>\n",
       "<style scoped>\n",
       "    .dataframe tbody tr th:only-of-type {\n",
       "        vertical-align: middle;\n",
       "    }\n",
       "\n",
       "    .dataframe tbody tr th {\n",
       "        vertical-align: top;\n",
       "    }\n",
       "\n",
       "    .dataframe thead th {\n",
       "        text-align: right;\n",
       "    }\n",
       "</style>\n",
       "<table border=\"1\" class=\"dataframe\">\n",
       "  <thead>\n",
       "    <tr style=\"text-align: right;\">\n",
       "      <th></th>\n",
       "      <th>Topic</th>\n",
       "      <th>Count</th>\n",
       "      <th>Name</th>\n",
       "      <th>Representation</th>\n",
       "      <th>Representative_Docs</th>\n",
       "    </tr>\n",
       "  </thead>\n",
       "  <tbody>\n",
       "    <tr>\n",
       "      <th>0</th>\n",
       "      <td>-1</td>\n",
       "      <td>40</td>\n",
       "      <td>-1_gil_urinária_em_após</td>\n",
       "      <td>[gil, urinária, em, após, infecção, internada,...</td>\n",
       "      <td>[agora preta gil recebe alta do hospital após ...</td>\n",
       "    </tr>\n",
       "    <tr>\n",
       "      <th>1</th>\n",
       "      <td>0</td>\n",
       "      <td>4060</td>\n",
       "      <td>0_infecção_urinária_de_que</td>\n",
       "      <td>[infecção, urinária, de, que, eu, com, não, um...</td>\n",
       "      <td>[domingo descobri que estou com sinusite se já...</td>\n",
       "    </tr>\n",
       "    <tr>\n",
       "      <th>2</th>\n",
       "      <td>1</td>\n",
       "      <td>61</td>\n",
       "      <td>1_gil_preta_de_internada</td>\n",
       "      <td>[gil, preta, de, internada, cantora, em, hospi...</td>\n",
       "      <td>[preta gil deixa uti de hospital mas segue int...</td>\n",
       "    </tr>\n",
       "    <tr>\n",
       "      <th>3</th>\n",
       "      <td>2</td>\n",
       "      <td>42</td>\n",
       "      <td>2_preta_gil_após_uti</td>\n",
       "      <td>[preta, gil, após, uti, internada, urinária, c...</td>\n",
       "      <td>[ preta gil é internada na uti com quadro de i...</td>\n",
       "    </tr>\n",
       "    <tr>\n",
       "      <th>4</th>\n",
       "      <td>3</td>\n",
       "      <td>35</td>\n",
       "      <td>3_local_pré_atendimento_hospitalar</td>\n",
       "      <td>[local, pré, atendimento, hospitalar, rua, ano...</td>\n",
       "      <td>[  atendimento pré hospitalar local rua brasil...</td>\n",
       "    </tr>\n",
       "    <tr>\n",
       "      <th>5</th>\n",
       "      <td>4</td>\n",
       "      <td>30</td>\n",
       "      <td>4_salvador_internada_preta_gil</td>\n",
       "      <td>[salvador, internada, preta, gil, em, hospital...</td>\n",
       "      <td>[preta gil é internada com infecção urinária e...</td>\n",
       "    </tr>\n",
       "  </tbody>\n",
       "</table>\n",
       "</div>"
      ],
      "text/plain": [
       "   Topic  Count                                Name  \\\n",
       "0     -1     40             -1_gil_urinária_em_após   \n",
       "1      0   4060          0_infecção_urinária_de_que   \n",
       "2      1     61            1_gil_preta_de_internada   \n",
       "3      2     42                2_preta_gil_após_uti   \n",
       "4      3     35  3_local_pré_atendimento_hospitalar   \n",
       "5      4     30      4_salvador_internada_preta_gil   \n",
       "\n",
       "                                      Representation  \\\n",
       "0  [gil, urinária, em, após, infecção, internada,...   \n",
       "1  [infecção, urinária, de, que, eu, com, não, um...   \n",
       "2  [gil, preta, de, internada, cantora, em, hospi...   \n",
       "3  [preta, gil, após, uti, internada, urinária, c...   \n",
       "4  [local, pré, atendimento, hospitalar, rua, ano...   \n",
       "5  [salvador, internada, preta, gil, em, hospital...   \n",
       "\n",
       "                                 Representative_Docs  \n",
       "0  [agora preta gil recebe alta do hospital após ...  \n",
       "1  [domingo descobri que estou com sinusite se já...  \n",
       "2  [preta gil deixa uti de hospital mas segue int...  \n",
       "3  [ preta gil é internada na uti com quadro de i...  \n",
       "4  [  atendimento pré hospitalar local rua brasil...  \n",
       "5  [preta gil é internada com infecção urinária e...  "
      ]
     },
     "execution_count": 37,
     "metadata": {},
     "output_type": "execute_result"
    }
   ],
   "source": [
    "topic_model.get_topic(1) # Exibir os tópicos encontrados\n",
    "topic_model.get_topic_info()"
   ]
  },
  {
   "cell_type": "code",
   "execution_count": 34,
   "id": "dfffd4e9",
   "metadata": {},
   "outputs": [],
   "source": [
    "tweets_df\n",
    "tweets_df.to_excel(r'C:\\\\Users\\\\Pessoal\\\\Documents\\\\Unifesp\\Aries\\\\aries_topic_selector\\\\dados\\\\processados\\\\tweets_processados_com_bert.xlsx', index=False)"
   ]
  }
 ],
 "metadata": {
  "kernelspec": {
   "display_name": ".venv",
   "language": "python",
   "name": "python3"
  },
  "language_info": {
   "codemirror_mode": {
    "name": "ipython",
    "version": 3
   },
   "file_extension": ".py",
   "mimetype": "text/x-python",
   "name": "python",
   "nbconvert_exporter": "python",
   "pygments_lexer": "ipython3",
   "version": "3.12.7"
  }
 },
 "nbformat": 4,
 "nbformat_minor": 5
}
