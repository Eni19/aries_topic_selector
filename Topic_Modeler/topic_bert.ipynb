{
 "cells": [
  {
   "cell_type": "code",
   "execution_count": 1,
   "id": "54394601",
   "metadata": {},
   "outputs": [
    {
     "name": "stderr",
     "output_type": "stream",
     "text": [
      "c:\\Users\\Pessoal\\Documents\\Unifesp\\Aries\\aries_topic_selector\\.venv\\Lib\\site-packages\\tqdm\\auto.py:21: TqdmWarning: IProgress not found. Please update jupyter and ipywidgets. See https://ipywidgets.readthedocs.io/en/stable/user_install.html\n",
      "  from .autonotebook import tqdm as notebook_tqdm\n"
     ]
    }
   ],
   "source": [
    "import pandas as pd\n",
    "import numpy as np\n",
    "import matplotlib.pyplot as plt\n",
    "import re\n",
    "from bertopic import BERTopic\n",
    "from sentence_transformers import SentenceTransformer\n",
    "from transformers import AutoTokenizer, AutoModelForMaskedLM\n",
    "import plotly.io as pio\n",
    "from umap import UMAP\n",
    "import hdbscan"
   ]
  },
  {
   "cell_type": "code",
   "execution_count": 9,
   "id": "a4e3cf2f",
   "metadata": {},
   "outputs": [],
   "source": [
    "from bertopic.representation import MaximalMarginalRelevance"
   ]
  },
  {
   "cell_type": "markdown",
   "id": "842e3d9d",
   "metadata": {},
   "source": [
    "Mostramos o diretório do arquivo CSV e definimos o dataframe utilizando a coluna de tweets limpos"
   ]
  },
  {
   "cell_type": "code",
   "execution_count": 131,
   "id": "741c81af",
   "metadata": {},
   "outputs": [],
   "source": [
    "caminho_arquivo = r'C:\\Users\\Pessoal\\Documents\\Unifesp\\Aries\\aries_topic_selector\\dados\\dadosTwitter\\CSV\\resitencia_bacteria\\tweets_processados.csv'\n",
    "tweets_df = pd.read_csv(caminho_arquivo)\n",
    "tweets_df = tweets_df[tweets_df[\"language\"] == \"pt\"]\n"
   ]
  },
  {
   "cell_type": "code",
   "execution_count": 132,
   "id": "4113c978",
   "metadata": {},
   "outputs": [],
   "source": [
    "tweets_df.dropna(axis='columns', inplace=True)\n",
    "tweets = tweets_df[\"tokens\"].tolist()"
   ]
  },
  {
   "cell_type": "markdown",
   "id": "1df06a0a",
   "metadata": {},
   "source": [
    "### Usar dados do G1"
   ]
  },
  {
   "cell_type": "code",
   "execution_count": 63,
   "id": "bb33077a",
   "metadata": {},
   "outputs": [],
   "source": [
    "caminho_arquivo = r'C:\\Users\\Pessoal\\Documents\\Unifesp\\Aries\\aries_topic_selector\\dados\\dadosG1\\bacteria\\news_processados.csv'\n",
    "tweets_df = pd.read_csv(caminho_arquivo)\n",
    "tweets_df.dropna(axis='columns', inplace=True)\n",
    "tweets = tweets_df[\"tokens\"].tolist()"
   ]
  },
  {
   "cell_type": "markdown",
   "id": "63b1d58b",
   "metadata": {},
   "source": [
    "# BERTimbau Base para Topic Modeling"
   ]
  },
  {
   "cell_type": "markdown",
   "id": "f7c80bfa",
   "metadata": {},
   "source": [
    "Primeiro definimos o modelo de embedding, no caso, o BERTimbau"
   ]
  },
  {
   "cell_type": "code",
   "execution_count": 56,
   "id": "5d887b9b",
   "metadata": {},
   "outputs": [
    {
     "name": "stderr",
     "output_type": "stream",
     "text": [
      "No sentence-transformers model found with name neuralmind/bert-base-portuguese-cased. Creating a new one with mean pooling.\n"
     ]
    }
   ],
   "source": [
    "embedding_model = SentenceTransformer(\"neuralmind/bert-base-portuguese-cased\")"
   ]
  },
  {
   "cell_type": "markdown",
   "id": "ed69364b",
   "metadata": {},
   "source": [
    "# Configurando o UMAP\n",
    "técnica de redução de dimensionalidade. Ele pega seus embeddings de alta dimensão e os projeta em um espaço de menor dimensão enquanto tenta preservar a estrutura local e global dos dados\n",
    "\n",
    "- n_neighbors: Controla o balanço entre a preservação da estrutura local versus global dos dados.\n",
    "    Valores menores (por exemplo, 2 a 10) fazem com que o UMAP se concentre mais na estrutura local dos dados, resultando em clusters mais apertados e potencialmente mais tópicos, mas que podem ser muito específicos.\n",
    "    Valores maiores (por exemplo, 15 a 50 ou mais) fazem com que o UMAP preserve mais a estrutura global, resultando em clusters mais dispersos e potencialmente menos tópicos, mas mais genéricos.\n",
    "    Um bom ponto de partida é geralmente entre 10 e 15.\n",
    "- n_components: A dimensão para a qual os embeddings serão reduzidos.\n",
    "    Para visualização, geralmente usamos n_components=2 ou 3.\n",
    "    Para o agrupamento, usar n_components entre 5 e 10 é comum. Um número maior de componentes pode preservar mais informações dos embeddings, mas pode tornar o agrupamento mais difícil para o HDBSCAN se houver muito \"ruído\".\n",
    "- metric: A métrica de distância usada para calcular a proximidade entre os pontos nos embeddings.\n",
    "    'cosine' é uma escolha comum e geralmente boa para embeddings de texto, pois mede a similaridade angular entre os vetores, o que é relevante para o significado semântico.\n",
    "\n"
   ]
  },
  {
   "cell_type": "markdown",
   "id": "120eb142",
   "metadata": {},
   "source": [
    "Treinamos os modelos nos Tweets já tokenizados"
   ]
  },
  {
   "cell_type": "code",
   "execution_count": null,
   "id": "e82c3a17",
   "metadata": {},
   "outputs": [],
   "source": [
    "umap_model = UMAP(n_neighbors=10, #5 para mais clusters\n",
    "                  n_components=5, \n",
    "                  metric='cosine',\n",
    "                  random_state=42\n",
    "                 )"
   ]
  },
  {
   "cell_type": "markdown",
   "id": "aec50800",
   "metadata": {},
   "source": [
    "# Configurando o HDBSCAN\n",
    "É um algoritmo de agrupamento que agrupa pontos de dados com base na densidade. Ele é excelente para encontrar clusters de várias formas e tamanhos, e também consegue identificar \"ruído\" (documentos que não pertencem a nenhum tópico).\n",
    "\n",
    "- min_cluster_size: O número mínimo de amostras em um cluster para ser considerado um cluster válido.\n",
    "    Valores menores resultam em mais clusters e potencialmente mais ruído (tópicos com poucos documentos).\n",
    "    Valores maiores resultam em menos clusters, mas mais densos e potencialmente mais robustos.\n",
    "\n",
    "- cluster_selection_method: Define como os clusters são selecionados a partir da hierarquia.\n",
    "    'eom' (default, \"Excess of Mass\") é geralmente a melhor opção, pois tende a produzir clusters mais equilibrados.\n",
    "    'leaf' seleciona os clusters nas folhas da hierarquia, o que pode resultar em muitos clusters pequenos.\n",
    "\n",
    "- metric='euclidean"
   ]
  },
  {
   "cell_type": "code",
   "execution_count": 165,
   "id": "dd291494",
   "metadata": {},
   "outputs": [],
   "source": [
    "hdbscan_model = hdbscan.HDBSCAN(min_cluster_size=7,\n",
    "                                min_samples=5,\n",
    "                                metric='euclidean',\n",
    "                                cluster_selection_method='eom',\n",
    "                                prediction_data=True \n",
    "                               )"
   ]
  },
  {
   "cell_type": "markdown",
   "id": "da710eaa",
   "metadata": {},
   "source": [
    "# Inicializar o BERTopic com os modelos configurados e o parâmetro diversity"
   ]
  },
  {
   "cell_type": "code",
   "execution_count": 167,
   "id": "269ab3e4",
   "metadata": {},
   "outputs": [],
   "source": [
    "representation_model = MaximalMarginalRelevance(diversity=0.1, top_n_words=10)\n",
    "\n",
    "topic_model = BERTopic(embedding_model=embedding_model,\n",
    "                       language=\"portuguese\",\n",
    "                       umap_model=umap_model,\n",
    "                       hdbscan_model=hdbscan_model,\n",
    "                       representation_model=representation_model,\n",
    "                       nr_topics=\"auto\", # Ou um número fixo, ex: 50\n",
    "                       min_topic_size=10 # Mantendo o padrão ou ajustando\n",
    "                      )\n"
   ]
  },
  {
   "cell_type": "markdown",
   "id": "0db4a302",
   "metadata": {},
   "source": [
    "Treinar o modelo"
   ]
  },
  {
   "cell_type": "code",
   "execution_count": 168,
   "id": "871f510e",
   "metadata": {},
   "outputs": [],
   "source": [
    "topics, probs = topic_model.fit_transform(tweets)"
   ]
  },
  {
   "cell_type": "code",
   "execution_count": 169,
   "id": "b04a59ec",
   "metadata": {},
   "outputs": [],
   "source": [
    "tweets_df[\"topic\"] = topics\n",
    "tweets_df[\"topic_prob\"] = probs\n"
   ]
  },
  {
   "cell_type": "code",
   "execution_count": 170,
   "id": "915d051f",
   "metadata": {},
   "outputs": [
    {
     "data": {
      "text/html": [
       "<div>\n",
       "<style scoped>\n",
       "    .dataframe tbody tr th:only-of-type {\n",
       "        vertical-align: middle;\n",
       "    }\n",
       "\n",
       "    .dataframe tbody tr th {\n",
       "        vertical-align: top;\n",
       "    }\n",
       "\n",
       "    .dataframe thead th {\n",
       "        text-align: right;\n",
       "    }\n",
       "</style>\n",
       "<table border=\"1\" class=\"dataframe\">\n",
       "  <thead>\n",
       "    <tr style=\"text-align: right;\">\n",
       "      <th></th>\n",
       "      <th>Topic</th>\n",
       "      <th>Count</th>\n",
       "      <th>Name</th>\n",
       "      <th>Representation</th>\n",
       "      <th>Representative_Docs</th>\n",
       "    </tr>\n",
       "  </thead>\n",
       "  <tbody>\n",
       "    <tr>\n",
       "      <th>0</th>\n",
       "      <td>-1</td>\n",
       "      <td>397</td>\n",
       "      <td>-1_bactéria_antibiótico_infecção_medicamento</td>\n",
       "      <td>[bactéria, antibiótico, infecção, medicamento,...</td>\n",
       "      <td>[criar resistência remédio mau existir ser bac...</td>\n",
       "    </tr>\n",
       "    <tr>\n",
       "      <th>1</th>\n",
       "      <td>0</td>\n",
       "      <td>505</td>\n",
       "      <td>0_antibiótico_bactéria_tomar_vírus</td>\n",
       "      <td>[antibiótico, bactéria, tomar, vírus, médico, ...</td>\n",
       "      <td>[acontecer demora tratar resistente bactéria f...</td>\n",
       "    </tr>\n",
       "    <tr>\n",
       "      <th>2</th>\n",
       "      <td>1</td>\n",
       "      <td>50</td>\n",
       "      <td>1_estudo_bovino_associar_bactéria</td>\n",
       "      <td>[estudo, bovino, associar, bactéria, molecular...</td>\n",
       "      <td>[faculdade ciência farmacêutico ribeirão preto...</td>\n",
       "    </tr>\n",
       "    <tr>\n",
       "      <th>3</th>\n",
       "      <td>2</td>\n",
       "      <td>42</td>\n",
       "      <td>2_klebsiella_pneumoniae_gonorreia_bactério</td>\n",
       "      <td>[klebsiella, pneumoniae, gonorreia, bactério, ...</td>\n",
       "      <td>[resistência antibiótico bactéria estômago pyl...</td>\n",
       "    </tr>\n",
       "    <tr>\n",
       "      <th>4</th>\n",
       "      <td>3</td>\n",
       "      <td>32</td>\n",
       "      <td>3_brasil_rolar_aura_petista</td>\n",
       "      <td>[brasil, rolar, aura, petista, podre, haraway,...</td>\n",
       "      <td>[entender perder laranja podre conseguir barra...</td>\n",
       "    </tr>\n",
       "    <tr>\n",
       "      <th>5</th>\n",
       "      <td>4</td>\n",
       "      <td>23</td>\n",
       "      <td>4_antibiotico_bacteria_resistencia_resistencer</td>\n",
       "      <td>[antibiotico, bacteria, resistencia, resistenc...</td>\n",
       "      <td>[caso certo tomar outro antibiotico bacteria c...</td>\n",
       "    </tr>\n",
       "    <tr>\n",
       "      <th>6</th>\n",
       "      <td>5</td>\n",
       "      <td>22</td>\n",
       "      <td>5_vcs_virulêncer_mdsss_rafaelluiz</td>\n",
       "      <td>[vcs, virulêncer, mdsss, rafaelluiz, nelsoncez...</td>\n",
       "      <td>[rafaelluiz estudo apontar informação resistên...</td>\n",
       "    </tr>\n",
       "    <tr>\n",
       "      <th>7</th>\n",
       "      <td>6</td>\n",
       "      <td>21</td>\n",
       "      <td>6_fico_enhum_hauhauaha_vsf</td>\n",
       "      <td>[fico, enhum, hauhauaha, vsf, huauhuhauhauhauh...</td>\n",
       "      <td>[parar cross parar comigo mto feliz resistênci...</td>\n",
       "    </tr>\n",
       "    <tr>\n",
       "      <th>8</th>\n",
       "      <td>7</td>\n",
       "      <td>19</td>\n",
       "      <td>7_clavulanato_clavunato_ampicilinar_cefalotino</td>\n",
       "      <td>[clavulanato, clavunato, ampicilinar, cefaloti...</td>\n",
       "      <td>[certo remédio tirar fator resistência imagine...</td>\n",
       "    </tr>\n",
       "    <tr>\n",
       "      <th>9</th>\n",
       "      <td>8</td>\n",
       "      <td>14</td>\n",
       "      <td>8_una_venezuela_quien_eso</td>\n",
       "      <td>[una, venezuela, quien, eso, mucho, narco, nac...</td>\n",
       "      <td>[cuar entra una propiedad privado tiene derech...</td>\n",
       "    </tr>\n",
       "    <tr>\n",
       "      <th>10</th>\n",
       "      <td>9</td>\n",
       "      <td>14</td>\n",
       "      <td>9_bactériar_ameaçar_strongr_antibiótico</td>\n",
       "      <td>[bactériar, ameaçar, strongr, antibiótico, inf...</td>\n",
       "      <td>[bactéria resistente ameaça global oms resistê...</td>\n",
       "    </tr>\n",
       "    <tr>\n",
       "      <th>11</th>\n",
       "      <td>10</td>\n",
       "      <td>13</td>\n",
       "      <td>10_uninorte_ululante_anvisar_iec</td>\n",
       "      <td>[uninorte, ululante, anvisar, iec, direcinamen...</td>\n",
       "      <td>[ear jornal terapia base luz reduzir resistênc...</td>\n",
       "    </tr>\n",
       "    <tr>\n",
       "      <th>12</th>\n",
       "      <td>11</td>\n",
       "      <td>13</td>\n",
       "      <td>11_pulmonar_óbito_contrair_pneumonia</td>\n",
       "      <td>[pulmonar, óbito, contrair, pneumonia, interna...</td>\n",
       "      <td>[retardamento precisar vivo normal bolsomizar ...</td>\n",
       "    </tr>\n",
       "    <tr>\n",
       "      <th>13</th>\n",
       "      <td>12</td>\n",
       "      <td>12</td>\n",
       "      <td>12_pandemia_azitromicina_bactério_fudeuuu</td>\n",
       "      <td>[pandemia, azitromicina, bactério, fudeuuu, ba...</td>\n",
       "      <td>[uso indevido antibiótico durante pandemia lev...</td>\n",
       "    </tr>\n",
       "    <tr>\n",
       "      <th>14</th>\n",
       "      <td>13</td>\n",
       "      <td>12</td>\n",
       "      <td>13_sobrevivência_genético_cmrng_bacterino</td>\n",
       "      <td>[sobrevivência, genético, cmrng, bacterino, co...</td>\n",
       "      <td>[troca informação sobrevivência aumentar resis...</td>\n",
       "    </tr>\n",
       "    <tr>\n",
       "      <th>15</th>\n",
       "      <td>14</td>\n",
       "      <td>11</td>\n",
       "      <td>14_fortíssimo_irresponsável_sífilis_azitromicina</td>\n",
       "      <td>[fortíssimo, irresponsável, sífilis, azitromic...</td>\n",
       "      <td>[paciente tomar antibiótico fortíssimo bactéri...</td>\n",
       "    </tr>\n",
       "    <tr>\n",
       "      <th>16</th>\n",
       "      <td>15</td>\n",
       "      <td>11</td>\n",
       "      <td>15_ano_funcionem_alarma_biomedicina</td>\n",
       "      <td>[ano, funcionem, alarma, biomedicina, replicaç...</td>\n",
       "      <td>[funcionar bactéria resistente sumir ano série...</td>\n",
       "    </tr>\n",
       "    <tr>\n",
       "      <th>17</th>\n",
       "      <td>16</td>\n",
       "      <td>11</td>\n",
       "      <td>16_metabólico_aderido_fago_iniber</td>\n",
       "      <td>[metabólico, aderido, fago, iniber, conferir, ...</td>\n",
       "      <td>[dizer caso bactéria querer criar resistência ...</td>\n",
       "    </tr>\n",
       "    <tr>\n",
       "      <th>18</th>\n",
       "      <td>17</td>\n",
       "      <td>11</td>\n",
       "      <td>17_virginiaaline_babão_telemedicino_bichinho</td>\n",
       "      <td>[virginiaaline, babão, telemedicino, bichinho,...</td>\n",
       "      <td>[galera explicar bonitinho perigo resistência ...</td>\n",
       "    </tr>\n",
       "    <tr>\n",
       "      <th>19</th>\n",
       "      <td>18</td>\n",
       "      <td>10</td>\n",
       "      <td>18_fotônico_luz_éria_ótico</td>\n",
       "      <td>[fotônico, luz, éria, ótico, proceedings, opa,...</td>\n",
       "      <td>[terapia base luz reduzir resistência bactéria...</td>\n",
       "    </tr>\n",
       "    <tr>\n",
       "      <th>20</th>\n",
       "      <td>19</td>\n",
       "      <td>10</td>\n",
       "      <td>19_enzima_degradar_gentamicina_micromonospora</td>\n",
       "      <td>[enzima, degradar, gentamicina, micromonospora...</td>\n",
       "      <td>[cientista identificar enzima usar combate res...</td>\n",
       "    </tr>\n",
       "    <tr>\n",
       "      <th>21</th>\n",
       "      <td>20</td>\n",
       "      <td>10</td>\n",
       "      <td>20_errar_chorar_tremer_cansei</td>\n",
       "      <td>[errar, chorar, tremer, cansei, esqueço, tonto...</td>\n",
       "      <td>[amigo conjuntivite absolutamente curar tomeir...</td>\n",
       "    </tr>\n",
       "    <tr>\n",
       "      <th>22</th>\n",
       "      <td>21</td>\n",
       "      <td>9</td>\n",
       "      <td>21_plasmideo_bacteria_antibiotico_atibiotico</td>\n",
       "      <td>[plasmideo, bacteria, antibiotico, atibiotico,...</td>\n",
       "      <td>[asma util antiaérea xarope antibiotico mto ru...</td>\n",
       "    </tr>\n",
       "    <tr>\n",
       "      <th>23</th>\n",
       "      <td>22</td>\n",
       "      <td>9</td>\n",
       "      <td>22_urinário_escorrer_absorvente_hemorragia</td>\n",
       "      <td>[urinário, escorrer, absorvente, hemorragia, â...</td>\n",
       "      <td>[avá digar infecção gente infecção urinário pr...</td>\n",
       "    </tr>\n",
       "    <tr>\n",
       "      <th>24</th>\n",
       "      <td>23</td>\n",
       "      <td>9</td>\n",
       "      <td>23_resistencer_antir_antibiotico_funcionaaarr</td>\n",
       "      <td>[resistencer, antir, antibiotico, funcionaaarr...</td>\n",
       "      <td>[usar indiscriminadamente aumentar resistencia...</td>\n",
       "    </tr>\n",
       "    <tr>\n",
       "      <th>25</th>\n",
       "      <td>24</td>\n",
       "      <td>9</td>\n",
       "      <td>24_mato_xtudo_imperatrizense_marve</td>\n",
       "      <td>[mato, xtudo, imperatrizense, marve, mossoroen...</td>\n",
       "      <td>[bactéria alto resistência mato bebê uti acer,...</td>\n",
       "    </tr>\n",
       "    <tr>\n",
       "      <th>26</th>\n",
       "      <td>25</td>\n",
       "      <td>9</td>\n",
       "      <td>25_wue_kkkkkj_farm_falo</td>\n",
       "      <td>[wue, kkkkkj, farm, falo, noia, fav, nise, hcq...</td>\n",
       "      <td>[gestor wue nao diferenca bacteria virus dra n...</td>\n",
       "    </tr>\n",
       "    <tr>\n",
       "      <th>27</th>\n",
       "      <td>26</td>\n",
       "      <td>9</td>\n",
       "      <td>26_mindset_dúver_hmmmmmmm_cresça</td>\n",
       "      <td>[mindset, dúver, hmmmmmmm, cresça, kakkaa, bea...</td>\n",
       "      <td>[bah dar bactéria fungo crescer pano resistênc...</td>\n",
       "    </tr>\n",
       "    <tr>\n",
       "      <th>28</th>\n",
       "      <td>27</td>\n",
       "      <td>9</td>\n",
       "      <td>27_borg_tiquinho_bicar_trump</td>\n",
       "      <td>[borg, tiquinho, bicar, trump, torcer, tog, mi...</td>\n",
       "      <td>[carar bolsonaro deixar ninguem viver paz vcs ...</td>\n",
       "    </tr>\n",
       "    <tr>\n",
       "      <th>29</th>\n",
       "      <td>28</td>\n",
       "      <td>9</td>\n",
       "      <td>28_bolsonaro_wscom_chmado_suoer</td>\n",
       "      <td>[bolsonaro, wscom, chmado, suoer, freire, sarn...</td>\n",
       "      <td>[adquirir resistência bactéria sarno parasita ...</td>\n",
       "    </tr>\n",
       "    <tr>\n",
       "      <th>30</th>\n",
       "      <td>29</td>\n",
       "      <td>9</td>\n",
       "      <td>29_garganta_gostar_desacostumar_divirtar</td>\n",
       "      <td>[garganta, gostar, desacostumar, divirtar, can...</td>\n",
       "      <td>[mano vcs medico biologia desenvolver resisten...</td>\n",
       "    </tr>\n",
       "    <tr>\n",
       "      <th>31</th>\n",
       "      <td>30</td>\n",
       "      <td>9</td>\n",
       "      <td>30_neonatal_entupimento_internamento_aguardar</td>\n",
       "      <td>[neonatal, entupimento, internamento, aguardar...</td>\n",
       "      <td>[bactéria alto resistência interdita uti neona...</td>\n",
       "    </tr>\n",
       "    <tr>\n",
       "      <th>32</th>\n",
       "      <td>31</td>\n",
       "      <td>8</td>\n",
       "      <td>31_seleciona_veneno_microbiano_favorecer</td>\n",
       "      <td>[seleciona, veneno, microbiano, favorecer, tip...</td>\n",
       "      <td>[igual bactéria criar resistência antibiótico ...</td>\n",
       "    </tr>\n",
       "    <tr>\n",
       "      <th>33</th>\n",
       "      <td>32</td>\n",
       "      <td>8</td>\n",
       "      <td>32_banho_cagar_chatinho_laje</td>\n",
       "      <td>[banho, cagar, chatinho, laje, pet, migalha, d...</td>\n",
       "      <td>[feliz ouvir médico dengar enfim casa acabar d...</td>\n",
       "    </tr>\n",
       "    <tr>\n",
       "      <th>34</th>\n",
       "      <td>33</td>\n",
       "      <td>8</td>\n",
       "      <td>33_porra_fuder_semano_tatica</td>\n",
       "      <td>[porra, fuder, semano, tatica, meto, babar, fz...</td>\n",
       "      <td>[carai fuder ein tomar antibiótico ate manhã s...</td>\n",
       "    </tr>\n",
       "    <tr>\n",
       "      <th>35</th>\n",
       "      <td>34</td>\n",
       "      <td>8</td>\n",
       "      <td>34_antibiótico_receitar_bacteriano_mertiolate</td>\n",
       "      <td>[antibiótico, receitar, bacteriano, mertiolate...</td>\n",
       "      <td>[antibiótico sabor fruta espirrar antibiótico ...</td>\n",
       "    </tr>\n",
       "    <tr>\n",
       "      <th>36</th>\n",
       "      <td>35</td>\n",
       "      <td>8</td>\n",
       "      <td>35_efluxo_ngo_antibiograma_genético</td>\n",
       "      <td>[efluxo, ngo, antibiograma, genético, bacteria...</td>\n",
       "      <td>[privilégio nao fermentador mecanismo resistên...</td>\n",
       "    </tr>\n",
       "    <tr>\n",
       "      <th>37</th>\n",
       "      <td>36</td>\n",
       "      <td>8</td>\n",
       "      <td>36_comunico_animo_biomedica_complicacoe</td>\n",
       "      <td>[comunico, animo, biomedica, complicacoe, dife...</td>\n",
       "      <td>[sinto culpar animo ver bactéria cheio gene re...</td>\n",
       "    </tr>\n",
       "    <tr>\n",
       "      <th>38</th>\n",
       "      <td>37</td>\n",
       "      <td>8</td>\n",
       "      <td>37_resistencia_bacterio_funfa_africo</td>\n",
       "      <td>[resistencia, bacterio, funfa, africo, pude, i...</td>\n",
       "      <td>[preciso som alto pensamento atualizar criar r...</td>\n",
       "    </tr>\n",
       "    <tr>\n",
       "      <th>39</th>\n",
       "      <td>38</td>\n",
       "      <td>8</td>\n",
       "      <td>38_resistencia_nao_antibiotico_funcao</td>\n",
       "      <td>[resistencia, nao, antibiotico, funcao, area, ...</td>\n",
       "      <td>[nao exatamente antibiograma antibiotico bacte...</td>\n",
       "    </tr>\n",
       "    <tr>\n",
       "      <th>40</th>\n",
       "      <td>39</td>\n",
       "      <td>7</td>\n",
       "      <td>39_mutação_aplicação_evoluir_imprevisível</td>\n",
       "      <td>[mutação, aplicação, evoluir, imprevisível, es...</td>\n",
       "      <td>[aula resistência droga surgir mutação espontâ...</td>\n",
       "    </tr>\n",
       "    <tr>\n",
       "      <th>41</th>\n",
       "      <td>40</td>\n",
       "      <td>7</td>\n",
       "      <td>40_merda_puta_burro_véi</td>\n",
       "      <td>[merda, puta, burro, véi, esquerdista, bosta, ...</td>\n",
       "      <td>[msm filho puta burro caralho foder fígado cri...</td>\n",
       "    </tr>\n",
       "  </tbody>\n",
       "</table>\n",
       "</div>"
      ],
      "text/plain": [
       "    Topic  Count                                              Name  \\\n",
       "0      -1    397      -1_bactéria_antibiótico_infecção_medicamento   \n",
       "1       0    505                0_antibiótico_bactéria_tomar_vírus   \n",
       "2       1     50                 1_estudo_bovino_associar_bactéria   \n",
       "3       2     42        2_klebsiella_pneumoniae_gonorreia_bactério   \n",
       "4       3     32                       3_brasil_rolar_aura_petista   \n",
       "5       4     23    4_antibiotico_bacteria_resistencia_resistencer   \n",
       "6       5     22                 5_vcs_virulêncer_mdsss_rafaelluiz   \n",
       "7       6     21                        6_fico_enhum_hauhauaha_vsf   \n",
       "8       7     19    7_clavulanato_clavunato_ampicilinar_cefalotino   \n",
       "9       8     14                         8_una_venezuela_quien_eso   \n",
       "10      9     14           9_bactériar_ameaçar_strongr_antibiótico   \n",
       "11     10     13                  10_uninorte_ululante_anvisar_iec   \n",
       "12     11     13              11_pulmonar_óbito_contrair_pneumonia   \n",
       "13     12     12         12_pandemia_azitromicina_bactério_fudeuuu   \n",
       "14     13     12         13_sobrevivência_genético_cmrng_bacterino   \n",
       "15     14     11  14_fortíssimo_irresponsável_sífilis_azitromicina   \n",
       "16     15     11               15_ano_funcionem_alarma_biomedicina   \n",
       "17     16     11                 16_metabólico_aderido_fago_iniber   \n",
       "18     17     11      17_virginiaaline_babão_telemedicino_bichinho   \n",
       "19     18     10                        18_fotônico_luz_éria_ótico   \n",
       "20     19     10     19_enzima_degradar_gentamicina_micromonospora   \n",
       "21     20     10                     20_errar_chorar_tremer_cansei   \n",
       "22     21      9      21_plasmideo_bacteria_antibiotico_atibiotico   \n",
       "23     22      9        22_urinário_escorrer_absorvente_hemorragia   \n",
       "24     23      9     23_resistencer_antir_antibiotico_funcionaaarr   \n",
       "25     24      9                24_mato_xtudo_imperatrizense_marve   \n",
       "26     25      9                           25_wue_kkkkkj_farm_falo   \n",
       "27     26      9                  26_mindset_dúver_hmmmmmmm_cresça   \n",
       "28     27      9                      27_borg_tiquinho_bicar_trump   \n",
       "29     28      9                   28_bolsonaro_wscom_chmado_suoer   \n",
       "30     29      9          29_garganta_gostar_desacostumar_divirtar   \n",
       "31     30      9     30_neonatal_entupimento_internamento_aguardar   \n",
       "32     31      8          31_seleciona_veneno_microbiano_favorecer   \n",
       "33     32      8                      32_banho_cagar_chatinho_laje   \n",
       "34     33      8                      33_porra_fuder_semano_tatica   \n",
       "35     34      8     34_antibiótico_receitar_bacteriano_mertiolate   \n",
       "36     35      8               35_efluxo_ngo_antibiograma_genético   \n",
       "37     36      8           36_comunico_animo_biomedica_complicacoe   \n",
       "38     37      8              37_resistencia_bacterio_funfa_africo   \n",
       "39     38      8             38_resistencia_nao_antibiotico_funcao   \n",
       "40     39      7         39_mutação_aplicação_evoluir_imprevisível   \n",
       "41     40      7                           40_merda_puta_burro_véi   \n",
       "\n",
       "                                       Representation  \\\n",
       "0   [bactéria, antibiótico, infecção, medicamento,...   \n",
       "1   [antibiótico, bactéria, tomar, vírus, médico, ...   \n",
       "2   [estudo, bovino, associar, bactéria, molecular...   \n",
       "3   [klebsiella, pneumoniae, gonorreia, bactério, ...   \n",
       "4   [brasil, rolar, aura, petista, podre, haraway,...   \n",
       "5   [antibiotico, bacteria, resistencia, resistenc...   \n",
       "6   [vcs, virulêncer, mdsss, rafaelluiz, nelsoncez...   \n",
       "7   [fico, enhum, hauhauaha, vsf, huauhuhauhauhauh...   \n",
       "8   [clavulanato, clavunato, ampicilinar, cefaloti...   \n",
       "9   [una, venezuela, quien, eso, mucho, narco, nac...   \n",
       "10  [bactériar, ameaçar, strongr, antibiótico, inf...   \n",
       "11  [uninorte, ululante, anvisar, iec, direcinamen...   \n",
       "12  [pulmonar, óbito, contrair, pneumonia, interna...   \n",
       "13  [pandemia, azitromicina, bactério, fudeuuu, ba...   \n",
       "14  [sobrevivência, genético, cmrng, bacterino, co...   \n",
       "15  [fortíssimo, irresponsável, sífilis, azitromic...   \n",
       "16  [ano, funcionem, alarma, biomedicina, replicaç...   \n",
       "17  [metabólico, aderido, fago, iniber, conferir, ...   \n",
       "18  [virginiaaline, babão, telemedicino, bichinho,...   \n",
       "19  [fotônico, luz, éria, ótico, proceedings, opa,...   \n",
       "20  [enzima, degradar, gentamicina, micromonospora...   \n",
       "21  [errar, chorar, tremer, cansei, esqueço, tonto...   \n",
       "22  [plasmideo, bacteria, antibiotico, atibiotico,...   \n",
       "23  [urinário, escorrer, absorvente, hemorragia, â...   \n",
       "24  [resistencer, antir, antibiotico, funcionaaarr...   \n",
       "25  [mato, xtudo, imperatrizense, marve, mossoroen...   \n",
       "26  [wue, kkkkkj, farm, falo, noia, fav, nise, hcq...   \n",
       "27  [mindset, dúver, hmmmmmmm, cresça, kakkaa, bea...   \n",
       "28  [borg, tiquinho, bicar, trump, torcer, tog, mi...   \n",
       "29  [bolsonaro, wscom, chmado, suoer, freire, sarn...   \n",
       "30  [garganta, gostar, desacostumar, divirtar, can...   \n",
       "31  [neonatal, entupimento, internamento, aguardar...   \n",
       "32  [seleciona, veneno, microbiano, favorecer, tip...   \n",
       "33  [banho, cagar, chatinho, laje, pet, migalha, d...   \n",
       "34  [porra, fuder, semano, tatica, meto, babar, fz...   \n",
       "35  [antibiótico, receitar, bacteriano, mertiolate...   \n",
       "36  [efluxo, ngo, antibiograma, genético, bacteria...   \n",
       "37  [comunico, animo, biomedica, complicacoe, dife...   \n",
       "38  [resistencia, bacterio, funfa, africo, pude, i...   \n",
       "39  [resistencia, nao, antibiotico, funcao, area, ...   \n",
       "40  [mutação, aplicação, evoluir, imprevisível, es...   \n",
       "41  [merda, puta, burro, véi, esquerdista, bosta, ...   \n",
       "\n",
       "                                  Representative_Docs  \n",
       "0   [criar resistência remédio mau existir ser bac...  \n",
       "1   [acontecer demora tratar resistente bactéria f...  \n",
       "2   [faculdade ciência farmacêutico ribeirão preto...  \n",
       "3   [resistência antibiótico bactéria estômago pyl...  \n",
       "4   [entender perder laranja podre conseguir barra...  \n",
       "5   [caso certo tomar outro antibiotico bacteria c...  \n",
       "6   [rafaelluiz estudo apontar informação resistên...  \n",
       "7   [parar cross parar comigo mto feliz resistênci...  \n",
       "8   [certo remédio tirar fator resistência imagine...  \n",
       "9   [cuar entra una propiedad privado tiene derech...  \n",
       "10  [bactéria resistente ameaça global oms resistê...  \n",
       "11  [ear jornal terapia base luz reduzir resistênc...  \n",
       "12  [retardamento precisar vivo normal bolsomizar ...  \n",
       "13  [uso indevido antibiótico durante pandemia lev...  \n",
       "14  [troca informação sobrevivência aumentar resis...  \n",
       "15  [paciente tomar antibiótico fortíssimo bactéri...  \n",
       "16  [funcionar bactéria resistente sumir ano série...  \n",
       "17  [dizer caso bactéria querer criar resistência ...  \n",
       "18  [galera explicar bonitinho perigo resistência ...  \n",
       "19  [terapia base luz reduzir resistência bactéria...  \n",
       "20  [cientista identificar enzima usar combate res...  \n",
       "21  [amigo conjuntivite absolutamente curar tomeir...  \n",
       "22  [asma util antiaérea xarope antibiotico mto ru...  \n",
       "23  [avá digar infecção gente infecção urinário pr...  \n",
       "24  [usar indiscriminadamente aumentar resistencia...  \n",
       "25  [bactéria alto resistência mato bebê uti acer,...  \n",
       "26  [gestor wue nao diferenca bacteria virus dra n...  \n",
       "27  [bah dar bactéria fungo crescer pano resistênc...  \n",
       "28  [carar bolsonaro deixar ninguem viver paz vcs ...  \n",
       "29  [adquirir resistência bactéria sarno parasita ...  \n",
       "30  [mano vcs medico biologia desenvolver resisten...  \n",
       "31  [bactéria alto resistência interdita uti neona...  \n",
       "32  [igual bactéria criar resistência antibiótico ...  \n",
       "33  [feliz ouvir médico dengar enfim casa acabar d...  \n",
       "34  [carai fuder ein tomar antibiótico ate manhã s...  \n",
       "35  [antibiótico sabor fruta espirrar antibiótico ...  \n",
       "36  [privilégio nao fermentador mecanismo resistên...  \n",
       "37  [sinto culpar animo ver bactéria cheio gene re...  \n",
       "38  [preciso som alto pensamento atualizar criar r...  \n",
       "39  [nao exatamente antibiograma antibiotico bacte...  \n",
       "40  [aula resistência droga surgir mutação espontâ...  \n",
       "41  [msm filho puta burro caralho foder fígado cri...  "
      ]
     },
     "execution_count": 170,
     "metadata": {},
     "output_type": "execute_result"
    }
   ],
   "source": [
    "topic_model.get_topic(1) # Exibir os tópicos encontrados\n",
    "topic_model.get_topic_info()"
   ]
  },
  {
   "cell_type": "code",
   "execution_count": 172,
   "id": "dfffd4e9",
   "metadata": {},
   "outputs": [],
   "source": [
    "tweets_df\n",
    "tweets_df.to_excel(r'C:\\\\Users\\\\Pessoal\\\\Documents\\\\Unifesp\\Aries\\\\aries_topic_selector\\\\dados\\\\processados\\\\tweets_processados_com_bert_resitencia_bacteria.xlsx', index=False)"
   ]
  },
  {
   "cell_type": "code",
   "execution_count": 171,
   "id": "2c8ee27b",
   "metadata": {},
   "outputs": [
    {
     "ename": "ValueError",
     "evalue": "Mime type rendering requires nbformat>=4.2.0 but it is not installed",
     "output_type": "error",
     "traceback": [
      "\u001b[31m---------------------------------------------------------------------------\u001b[39m",
      "\u001b[31mValueError\u001b[39m                                Traceback (most recent call last)",
      "\u001b[36mFile \u001b[39m\u001b[32mc:\\Users\\Pessoal\\Documents\\Unifesp\\Aries\\aries_topic_selector\\.venv\\Lib\\site-packages\\IPython\\core\\formatters.py:984\u001b[39m, in \u001b[36mIPythonDisplayFormatter.__call__\u001b[39m\u001b[34m(self, obj)\u001b[39m\n\u001b[32m    982\u001b[39m method = get_real_method(obj, \u001b[38;5;28mself\u001b[39m.print_method)\n\u001b[32m    983\u001b[39m \u001b[38;5;28;01mif\u001b[39;00m method \u001b[38;5;129;01mis\u001b[39;00m \u001b[38;5;129;01mnot\u001b[39;00m \u001b[38;5;28;01mNone\u001b[39;00m:\n\u001b[32m--> \u001b[39m\u001b[32m984\u001b[39m     \u001b[43mmethod\u001b[49m\u001b[43m(\u001b[49m\u001b[43m)\u001b[49m\n\u001b[32m    985\u001b[39m     \u001b[38;5;28;01mreturn\u001b[39;00m \u001b[38;5;28;01mTrue\u001b[39;00m\n",
      "\u001b[36mFile \u001b[39m\u001b[32mc:\\Users\\Pessoal\\Documents\\Unifesp\\Aries\\aries_topic_selector\\.venv\\Lib\\site-packages\\plotly\\basedatatypes.py:846\u001b[39m, in \u001b[36mBaseFigure._ipython_display_\u001b[39m\u001b[34m(self)\u001b[39m\n\u001b[32m    843\u001b[39m \u001b[38;5;28;01mimport\u001b[39;00m\u001b[38;5;250m \u001b[39m\u001b[34;01mplotly\u001b[39;00m\u001b[34;01m.\u001b[39;00m\u001b[34;01mio\u001b[39;00m\u001b[38;5;250m \u001b[39m\u001b[38;5;28;01mas\u001b[39;00m\u001b[38;5;250m \u001b[39m\u001b[34;01mpio\u001b[39;00m\n\u001b[32m    845\u001b[39m \u001b[38;5;28;01mif\u001b[39;00m pio.renderers.render_on_display \u001b[38;5;129;01mand\u001b[39;00m pio.renderers.default:\n\u001b[32m--> \u001b[39m\u001b[32m846\u001b[39m     \u001b[43mpio\u001b[49m\u001b[43m.\u001b[49m\u001b[43mshow\u001b[49m\u001b[43m(\u001b[49m\u001b[38;5;28;43mself\u001b[39;49m\u001b[43m)\u001b[49m\n\u001b[32m    847\u001b[39m \u001b[38;5;28;01melse\u001b[39;00m:\n\u001b[32m    848\u001b[39m     \u001b[38;5;28mprint\u001b[39m(\u001b[38;5;28mrepr\u001b[39m(\u001b[38;5;28mself\u001b[39m))\n",
      "\u001b[36mFile \u001b[39m\u001b[32mc:\\Users\\Pessoal\\Documents\\Unifesp\\Aries\\aries_topic_selector\\.venv\\Lib\\site-packages\\plotly\\io\\_renderers.py:425\u001b[39m, in \u001b[36mshow\u001b[39m\u001b[34m(fig, renderer, validate, **kwargs)\u001b[39m\n\u001b[32m    420\u001b[39m     \u001b[38;5;28;01mraise\u001b[39;00m \u001b[38;5;167;01mValueError\u001b[39;00m(\n\u001b[32m    421\u001b[39m         \u001b[33m\"\u001b[39m\u001b[33mMime type rendering requires ipython but it is not installed\u001b[39m\u001b[33m\"\u001b[39m\n\u001b[32m    422\u001b[39m     )\n\u001b[32m    424\u001b[39m \u001b[38;5;28;01mif\u001b[39;00m \u001b[38;5;129;01mnot\u001b[39;00m nbformat \u001b[38;5;129;01mor\u001b[39;00m Version(nbformat.__version__) < Version(\u001b[33m\"\u001b[39m\u001b[33m4.2.0\u001b[39m\u001b[33m\"\u001b[39m):\n\u001b[32m--> \u001b[39m\u001b[32m425\u001b[39m     \u001b[38;5;28;01mraise\u001b[39;00m \u001b[38;5;167;01mValueError\u001b[39;00m(\n\u001b[32m    426\u001b[39m         \u001b[33m\"\u001b[39m\u001b[33mMime type rendering requires nbformat>=4.2.0 but it is not installed\u001b[39m\u001b[33m\"\u001b[39m\n\u001b[32m    427\u001b[39m     )\n\u001b[32m    429\u001b[39m display_jupyter_version_warnings()\n\u001b[32m    431\u001b[39m ipython_display.display(bundle, raw=\u001b[38;5;28;01mTrue\u001b[39;00m)\n",
      "\u001b[31mValueError\u001b[39m: Mime type rendering requires nbformat>=4.2.0 but it is not installed"
     ]
    },
    {
     "data": {
      "application/vnd.plotly.v1+json": {
       "config": {
        "plotlyServerURL": "https://plot.ly"
       },
       "data": [
        {
         "marker": {
          "color": "#D55E00"
         },
         "orientation": "h",
         "type": "bar",
         "x": [
          0.01199822493450686,
          0.014612791369684816,
          0.01804566946228622,
          0.022277965881095645,
          0.024404685078979676
         ],
         "xaxis": "x",
         "y": [
          "médico  ",
          "vírus  ",
          "tomar  ",
          "bactéria  ",
          "antibiótico  "
         ],
         "yaxis": "y"
        },
        {
         "marker": {
          "color": "#0072B2"
         },
         "orientation": "h",
         "type": "bar",
         "x": [
          0.016356632998167992,
          0.016613803127240225,
          0.017251681483943064,
          0.021808843997557326,
          0.030851982745524247
         ],
         "xaxis": "x2",
         "y": [
          "molecular  ",
          "bactéria  ",
          "associar  ",
          "bovino  ",
          "estudo  "
         ],
         "yaxis": "y2"
        },
        {
         "marker": {
          "color": "#CC79A7"
         },
         "orientation": "h",
         "type": "bar",
         "x": [
          0.03406976883015221,
          0.03564067256454183,
          0.03969014868606341,
          0.05885076529610206,
          0.06191488364213835
         ],
         "xaxis": "x3",
         "y": [
          "gonorrhoeae  ",
          "bactério  ",
          "gonorreia  ",
          "pneumoniae  ",
          "klebsiella  "
         ],
         "yaxis": "y3"
        },
        {
         "marker": {
          "color": "#E69F00"
         },
         "orientation": "h",
         "type": "bar",
         "x": [
          0.02040966547343611,
          0.02040966547343611,
          0.02040966547343611,
          0.02551209799658597,
          0.0278657322352756
         ],
         "xaxis": "x4",
         "y": [
          "podre  ",
          "petista  ",
          "aura  ",
          "rolar  ",
          "brasil  "
         ],
         "yaxis": "y4"
        },
        {
         "marker": {
          "color": "#56B4E9"
         },
         "orientation": "h",
         "type": "bar",
         "x": [
          0.04646807517145173,
          0.07563776487514418,
          0.09784901864047801,
          0.125199148538717,
          0.13488185981719253
         ],
         "xaxis": "x5",
         "y": [
          "virus  ",
          "resistencer  ",
          "resistencia  ",
          "bacteria  ",
          "antibiotico  "
         ],
         "yaxis": "y5"
        },
        {
         "marker": {
          "color": "#009E73"
         },
         "orientation": "h",
         "type": "bar",
         "x": [
          0.03436090932092894,
          0.03436090932092894,
          0.03436090932092894,
          0.03436090932092894,
          0.042165422621369214
         ],
         "xaxis": "x6",
         "y": [
          "nelsoncezar  ",
          "rafaelluiz  ",
          "mdsss  ",
          "virulêncer  ",
          "vcs  "
         ],
         "yaxis": "y6"
        },
        {
         "marker": {
          "color": "#F0E442"
         },
         "orientation": "h",
         "type": "bar",
         "x": [
          0.025734739616930038,
          0.025734739616930038,
          0.025734739616930038,
          0.025734739616930038,
          0.033224200113406877
         ],
         "xaxis": "x7",
         "y": [
          "huauhuhauhauhauhahuo  ",
          "vsf  ",
          "hauhauaha  ",
          "enhum  ",
          "fico  "
         ],
         "yaxis": "y7"
        },
        {
         "marker": {
          "color": "#D55E00"
         },
         "orientation": "h",
         "type": "bar",
         "x": [
          0.030737056567466916,
          0.03318896969084595,
          0.03318896969084595,
          0.03318896969084595,
          0.0384565774010273
         ],
         "xaxis": "x8",
         "y": [
          "serratir  ",
          "cefalotino  ",
          "ampicilinar  ",
          "clavunato  ",
          "clavulanato  "
         ],
         "yaxis": "y8"
        },
        {
         "marker": {
          "color": "#0072B2"
         },
         "orientation": "h",
         "type": "bar",
         "x": [
          0.056576015690613046,
          0.056576015690613046,
          0.056576015690613046,
          0.056576015690613046,
          0.17598055917882333
         ],
         "xaxis": "x9",
         "y": [
          "mucho  ",
          "eso  ",
          "quien  ",
          "venezuela  ",
          "una  "
         ],
         "yaxis": "y9"
        },
        {
         "marker": {
          "color": "#CC79A7"
         },
         "orientation": "h",
         "type": "bar",
         "x": [
          0.04489491071858598,
          0.052978446763955744,
          0.07970197830867386,
          0.15391987791895356,
          0.215487829086535
         ],
         "xaxis": "x10",
         "y": [
          "info  ",
          "antibiótico  ",
          "strongr  ",
          "ameaçar  ",
          "bactériar  "
         ],
         "yaxis": "y10"
        }
       ],
       "layout": {
        "annotations": [
         {
          "font": {
           "size": 16
          },
          "showarrow": false,
          "text": "Topic 0",
          "x": 0.0875,
          "xanchor": "center",
          "xref": "paper",
          "y": 1,
          "yanchor": "bottom",
          "yref": "paper"
         },
         {
          "font": {
           "size": 16
          },
          "showarrow": false,
          "text": "Topic 1",
          "x": 0.36250000000000004,
          "xanchor": "center",
          "xref": "paper",
          "y": 1,
          "yanchor": "bottom",
          "yref": "paper"
         },
         {
          "font": {
           "size": 16
          },
          "showarrow": false,
          "text": "Topic 2",
          "x": 0.6375000000000001,
          "xanchor": "center",
          "xref": "paper",
          "y": 1,
          "yanchor": "bottom",
          "yref": "paper"
         },
         {
          "font": {
           "size": 16
          },
          "showarrow": false,
          "text": "Topic 3",
          "x": 0.9125,
          "xanchor": "center",
          "xref": "paper",
          "y": 1,
          "yanchor": "bottom",
          "yref": "paper"
         },
         {
          "font": {
           "size": 16
          },
          "showarrow": false,
          "text": "Topic 4",
          "x": 0.0875,
          "xanchor": "center",
          "xref": "paper",
          "y": 0.6222222222222222,
          "yanchor": "bottom",
          "yref": "paper"
         },
         {
          "font": {
           "size": 16
          },
          "showarrow": false,
          "text": "Topic 5",
          "x": 0.36250000000000004,
          "xanchor": "center",
          "xref": "paper",
          "y": 0.6222222222222222,
          "yanchor": "bottom",
          "yref": "paper"
         },
         {
          "font": {
           "size": 16
          },
          "showarrow": false,
          "text": "Topic 6",
          "x": 0.6375000000000001,
          "xanchor": "center",
          "xref": "paper",
          "y": 0.6222222222222222,
          "yanchor": "bottom",
          "yref": "paper"
         },
         {
          "font": {
           "size": 16
          },
          "showarrow": false,
          "text": "Topic 7",
          "x": 0.9125,
          "xanchor": "center",
          "xref": "paper",
          "y": 0.6222222222222222,
          "yanchor": "bottom",
          "yref": "paper"
         },
         {
          "font": {
           "size": 16
          },
          "showarrow": false,
          "text": "Topic 8",
          "x": 0.0875,
          "xanchor": "center",
          "xref": "paper",
          "y": 0.24444444444444446,
          "yanchor": "bottom",
          "yref": "paper"
         },
         {
          "font": {
           "size": 16
          },
          "showarrow": false,
          "text": "Topic 9",
          "x": 0.36250000000000004,
          "xanchor": "center",
          "xref": "paper",
          "y": 0.24444444444444446,
          "yanchor": "bottom",
          "yref": "paper"
         }
        ],
        "height": 750,
        "hoverlabel": {
         "bgcolor": "white",
         "font": {
          "family": "Rockwell",
          "size": 16
         }
        },
        "showlegend": false,
        "template": {
         "data": {
          "bar": [
           {
            "error_x": {
             "color": "#2a3f5f"
            },
            "error_y": {
             "color": "#2a3f5f"
            },
            "marker": {
             "line": {
              "color": "white",
              "width": 0.5
             },
             "pattern": {
              "fillmode": "overlay",
              "size": 10,
              "solidity": 0.2
             }
            },
            "type": "bar"
           }
          ],
          "barpolar": [
           {
            "marker": {
             "line": {
              "color": "white",
              "width": 0.5
             },
             "pattern": {
              "fillmode": "overlay",
              "size": 10,
              "solidity": 0.2
             }
            },
            "type": "barpolar"
           }
          ],
          "carpet": [
           {
            "aaxis": {
             "endlinecolor": "#2a3f5f",
             "gridcolor": "#C8D4E3",
             "linecolor": "#C8D4E3",
             "minorgridcolor": "#C8D4E3",
             "startlinecolor": "#2a3f5f"
            },
            "baxis": {
             "endlinecolor": "#2a3f5f",
             "gridcolor": "#C8D4E3",
             "linecolor": "#C8D4E3",
             "minorgridcolor": "#C8D4E3",
             "startlinecolor": "#2a3f5f"
            },
            "type": "carpet"
           }
          ],
          "choropleth": [
           {
            "colorbar": {
             "outlinewidth": 0,
             "ticks": ""
            },
            "type": "choropleth"
           }
          ],
          "contour": [
           {
            "colorbar": {
             "outlinewidth": 0,
             "ticks": ""
            },
            "colorscale": [
             [
              0,
              "#0d0887"
             ],
             [
              0.1111111111111111,
              "#46039f"
             ],
             [
              0.2222222222222222,
              "#7201a8"
             ],
             [
              0.3333333333333333,
              "#9c179e"
             ],
             [
              0.4444444444444444,
              "#bd3786"
             ],
             [
              0.5555555555555556,
              "#d8576b"
             ],
             [
              0.6666666666666666,
              "#ed7953"
             ],
             [
              0.7777777777777778,
              "#fb9f3a"
             ],
             [
              0.8888888888888888,
              "#fdca26"
             ],
             [
              1,
              "#f0f921"
             ]
            ],
            "type": "contour"
           }
          ],
          "contourcarpet": [
           {
            "colorbar": {
             "outlinewidth": 0,
             "ticks": ""
            },
            "type": "contourcarpet"
           }
          ],
          "heatmap": [
           {
            "colorbar": {
             "outlinewidth": 0,
             "ticks": ""
            },
            "colorscale": [
             [
              0,
              "#0d0887"
             ],
             [
              0.1111111111111111,
              "#46039f"
             ],
             [
              0.2222222222222222,
              "#7201a8"
             ],
             [
              0.3333333333333333,
              "#9c179e"
             ],
             [
              0.4444444444444444,
              "#bd3786"
             ],
             [
              0.5555555555555556,
              "#d8576b"
             ],
             [
              0.6666666666666666,
              "#ed7953"
             ],
             [
              0.7777777777777778,
              "#fb9f3a"
             ],
             [
              0.8888888888888888,
              "#fdca26"
             ],
             [
              1,
              "#f0f921"
             ]
            ],
            "type": "heatmap"
           }
          ],
          "histogram": [
           {
            "marker": {
             "pattern": {
              "fillmode": "overlay",
              "size": 10,
              "solidity": 0.2
             }
            },
            "type": "histogram"
           }
          ],
          "histogram2d": [
           {
            "colorbar": {
             "outlinewidth": 0,
             "ticks": ""
            },
            "colorscale": [
             [
              0,
              "#0d0887"
             ],
             [
              0.1111111111111111,
              "#46039f"
             ],
             [
              0.2222222222222222,
              "#7201a8"
             ],
             [
              0.3333333333333333,
              "#9c179e"
             ],
             [
              0.4444444444444444,
              "#bd3786"
             ],
             [
              0.5555555555555556,
              "#d8576b"
             ],
             [
              0.6666666666666666,
              "#ed7953"
             ],
             [
              0.7777777777777778,
              "#fb9f3a"
             ],
             [
              0.8888888888888888,
              "#fdca26"
             ],
             [
              1,
              "#f0f921"
             ]
            ],
            "type": "histogram2d"
           }
          ],
          "histogram2dcontour": [
           {
            "colorbar": {
             "outlinewidth": 0,
             "ticks": ""
            },
            "colorscale": [
             [
              0,
              "#0d0887"
             ],
             [
              0.1111111111111111,
              "#46039f"
             ],
             [
              0.2222222222222222,
              "#7201a8"
             ],
             [
              0.3333333333333333,
              "#9c179e"
             ],
             [
              0.4444444444444444,
              "#bd3786"
             ],
             [
              0.5555555555555556,
              "#d8576b"
             ],
             [
              0.6666666666666666,
              "#ed7953"
             ],
             [
              0.7777777777777778,
              "#fb9f3a"
             ],
             [
              0.8888888888888888,
              "#fdca26"
             ],
             [
              1,
              "#f0f921"
             ]
            ],
            "type": "histogram2dcontour"
           }
          ],
          "mesh3d": [
           {
            "colorbar": {
             "outlinewidth": 0,
             "ticks": ""
            },
            "type": "mesh3d"
           }
          ],
          "parcoords": [
           {
            "line": {
             "colorbar": {
              "outlinewidth": 0,
              "ticks": ""
             }
            },
            "type": "parcoords"
           }
          ],
          "pie": [
           {
            "automargin": true,
            "type": "pie"
           }
          ],
          "scatter": [
           {
            "fillpattern": {
             "fillmode": "overlay",
             "size": 10,
             "solidity": 0.2
            },
            "type": "scatter"
           }
          ],
          "scatter3d": [
           {
            "line": {
             "colorbar": {
              "outlinewidth": 0,
              "ticks": ""
             }
            },
            "marker": {
             "colorbar": {
              "outlinewidth": 0,
              "ticks": ""
             }
            },
            "type": "scatter3d"
           }
          ],
          "scattercarpet": [
           {
            "marker": {
             "colorbar": {
              "outlinewidth": 0,
              "ticks": ""
             }
            },
            "type": "scattercarpet"
           }
          ],
          "scattergeo": [
           {
            "marker": {
             "colorbar": {
              "outlinewidth": 0,
              "ticks": ""
             }
            },
            "type": "scattergeo"
           }
          ],
          "scattergl": [
           {
            "marker": {
             "colorbar": {
              "outlinewidth": 0,
              "ticks": ""
             }
            },
            "type": "scattergl"
           }
          ],
          "scattermap": [
           {
            "marker": {
             "colorbar": {
              "outlinewidth": 0,
              "ticks": ""
             }
            },
            "type": "scattermap"
           }
          ],
          "scattermapbox": [
           {
            "marker": {
             "colorbar": {
              "outlinewidth": 0,
              "ticks": ""
             }
            },
            "type": "scattermapbox"
           }
          ],
          "scatterpolar": [
           {
            "marker": {
             "colorbar": {
              "outlinewidth": 0,
              "ticks": ""
             }
            },
            "type": "scatterpolar"
           }
          ],
          "scatterpolargl": [
           {
            "marker": {
             "colorbar": {
              "outlinewidth": 0,
              "ticks": ""
             }
            },
            "type": "scatterpolargl"
           }
          ],
          "scatterternary": [
           {
            "marker": {
             "colorbar": {
              "outlinewidth": 0,
              "ticks": ""
             }
            },
            "type": "scatterternary"
           }
          ],
          "surface": [
           {
            "colorbar": {
             "outlinewidth": 0,
             "ticks": ""
            },
            "colorscale": [
             [
              0,
              "#0d0887"
             ],
             [
              0.1111111111111111,
              "#46039f"
             ],
             [
              0.2222222222222222,
              "#7201a8"
             ],
             [
              0.3333333333333333,
              "#9c179e"
             ],
             [
              0.4444444444444444,
              "#bd3786"
             ],
             [
              0.5555555555555556,
              "#d8576b"
             ],
             [
              0.6666666666666666,
              "#ed7953"
             ],
             [
              0.7777777777777778,
              "#fb9f3a"
             ],
             [
              0.8888888888888888,
              "#fdca26"
             ],
             [
              1,
              "#f0f921"
             ]
            ],
            "type": "surface"
           }
          ],
          "table": [
           {
            "cells": {
             "fill": {
              "color": "#EBF0F8"
             },
             "line": {
              "color": "white"
             }
            },
            "header": {
             "fill": {
              "color": "#C8D4E3"
             },
             "line": {
              "color": "white"
             }
            },
            "type": "table"
           }
          ]
         },
         "layout": {
          "annotationdefaults": {
           "arrowcolor": "#2a3f5f",
           "arrowhead": 0,
           "arrowwidth": 1
          },
          "autotypenumbers": "strict",
          "coloraxis": {
           "colorbar": {
            "outlinewidth": 0,
            "ticks": ""
           }
          },
          "colorscale": {
           "diverging": [
            [
             0,
             "#8e0152"
            ],
            [
             0.1,
             "#c51b7d"
            ],
            [
             0.2,
             "#de77ae"
            ],
            [
             0.3,
             "#f1b6da"
            ],
            [
             0.4,
             "#fde0ef"
            ],
            [
             0.5,
             "#f7f7f7"
            ],
            [
             0.6,
             "#e6f5d0"
            ],
            [
             0.7,
             "#b8e186"
            ],
            [
             0.8,
             "#7fbc41"
            ],
            [
             0.9,
             "#4d9221"
            ],
            [
             1,
             "#276419"
            ]
           ],
           "sequential": [
            [
             0,
             "#0d0887"
            ],
            [
             0.1111111111111111,
             "#46039f"
            ],
            [
             0.2222222222222222,
             "#7201a8"
            ],
            [
             0.3333333333333333,
             "#9c179e"
            ],
            [
             0.4444444444444444,
             "#bd3786"
            ],
            [
             0.5555555555555556,
             "#d8576b"
            ],
            [
             0.6666666666666666,
             "#ed7953"
            ],
            [
             0.7777777777777778,
             "#fb9f3a"
            ],
            [
             0.8888888888888888,
             "#fdca26"
            ],
            [
             1,
             "#f0f921"
            ]
           ],
           "sequentialminus": [
            [
             0,
             "#0d0887"
            ],
            [
             0.1111111111111111,
             "#46039f"
            ],
            [
             0.2222222222222222,
             "#7201a8"
            ],
            [
             0.3333333333333333,
             "#9c179e"
            ],
            [
             0.4444444444444444,
             "#bd3786"
            ],
            [
             0.5555555555555556,
             "#d8576b"
            ],
            [
             0.6666666666666666,
             "#ed7953"
            ],
            [
             0.7777777777777778,
             "#fb9f3a"
            ],
            [
             0.8888888888888888,
             "#fdca26"
            ],
            [
             1,
             "#f0f921"
            ]
           ]
          },
          "colorway": [
           "#636efa",
           "#EF553B",
           "#00cc96",
           "#ab63fa",
           "#FFA15A",
           "#19d3f3",
           "#FF6692",
           "#B6E880",
           "#FF97FF",
           "#FECB52"
          ],
          "font": {
           "color": "#2a3f5f"
          },
          "geo": {
           "bgcolor": "white",
           "lakecolor": "white",
           "landcolor": "white",
           "showlakes": true,
           "showland": true,
           "subunitcolor": "#C8D4E3"
          },
          "hoverlabel": {
           "align": "left"
          },
          "hovermode": "closest",
          "mapbox": {
           "style": "light"
          },
          "paper_bgcolor": "white",
          "plot_bgcolor": "white",
          "polar": {
           "angularaxis": {
            "gridcolor": "#EBF0F8",
            "linecolor": "#EBF0F8",
            "ticks": ""
           },
           "bgcolor": "white",
           "radialaxis": {
            "gridcolor": "#EBF0F8",
            "linecolor": "#EBF0F8",
            "ticks": ""
           }
          },
          "scene": {
           "xaxis": {
            "backgroundcolor": "white",
            "gridcolor": "#DFE8F3",
            "gridwidth": 2,
            "linecolor": "#EBF0F8",
            "showbackground": true,
            "ticks": "",
            "zerolinecolor": "#EBF0F8"
           },
           "yaxis": {
            "backgroundcolor": "white",
            "gridcolor": "#DFE8F3",
            "gridwidth": 2,
            "linecolor": "#EBF0F8",
            "showbackground": true,
            "ticks": "",
            "zerolinecolor": "#EBF0F8"
           },
           "zaxis": {
            "backgroundcolor": "white",
            "gridcolor": "#DFE8F3",
            "gridwidth": 2,
            "linecolor": "#EBF0F8",
            "showbackground": true,
            "ticks": "",
            "zerolinecolor": "#EBF0F8"
           }
          },
          "shapedefaults": {
           "line": {
            "color": "#2a3f5f"
           }
          },
          "ternary": {
           "aaxis": {
            "gridcolor": "#DFE8F3",
            "linecolor": "#A2B1C6",
            "ticks": ""
           },
           "baxis": {
            "gridcolor": "#DFE8F3",
            "linecolor": "#A2B1C6",
            "ticks": ""
           },
           "bgcolor": "white",
           "caxis": {
            "gridcolor": "#DFE8F3",
            "linecolor": "#A2B1C6",
            "ticks": ""
           }
          },
          "title": {
           "x": 0.05
          },
          "xaxis": {
           "automargin": true,
           "gridcolor": "#EBF0F8",
           "linecolor": "#EBF0F8",
           "ticks": "",
           "title": {
            "standoff": 15
           },
           "zerolinecolor": "#EBF0F8",
           "zerolinewidth": 2
          },
          "yaxis": {
           "automargin": true,
           "gridcolor": "#EBF0F8",
           "linecolor": "#EBF0F8",
           "ticks": "",
           "title": {
            "standoff": 15
           },
           "zerolinecolor": "#EBF0F8",
           "zerolinewidth": 2
          }
         }
        },
        "title": {
         "font": {
          "color": "Black",
          "size": 22
         },
         "text": "Topic Word Scores",
         "x": 0.5,
         "xanchor": "center",
         "yanchor": "top"
        },
        "width": 1000,
        "xaxis": {
         "anchor": "y",
         "domain": [
          0,
          0.175
         ],
         "showgrid": true
        },
        "xaxis10": {
         "anchor": "y10",
         "domain": [
          0.275,
          0.45
         ],
         "showgrid": true
        },
        "xaxis11": {
         "anchor": "y11",
         "domain": [
          0.55,
          0.7250000000000001
         ],
         "showgrid": true
        },
        "xaxis12": {
         "anchor": "y12",
         "domain": [
          0.825,
          1
         ],
         "showgrid": true
        },
        "xaxis2": {
         "anchor": "y2",
         "domain": [
          0.275,
          0.45
         ],
         "showgrid": true
        },
        "xaxis3": {
         "anchor": "y3",
         "domain": [
          0.55,
          0.7250000000000001
         ],
         "showgrid": true
        },
        "xaxis4": {
         "anchor": "y4",
         "domain": [
          0.825,
          1
         ],
         "showgrid": true
        },
        "xaxis5": {
         "anchor": "y5",
         "domain": [
          0,
          0.175
         ],
         "showgrid": true
        },
        "xaxis6": {
         "anchor": "y6",
         "domain": [
          0.275,
          0.45
         ],
         "showgrid": true
        },
        "xaxis7": {
         "anchor": "y7",
         "domain": [
          0.55,
          0.7250000000000001
         ],
         "showgrid": true
        },
        "xaxis8": {
         "anchor": "y8",
         "domain": [
          0.825,
          1
         ],
         "showgrid": true
        },
        "xaxis9": {
         "anchor": "y9",
         "domain": [
          0,
          0.175
         ],
         "showgrid": true
        },
        "yaxis": {
         "anchor": "x",
         "domain": [
          0.7555555555555555,
          1
         ],
         "showgrid": true
        },
        "yaxis10": {
         "anchor": "x10",
         "domain": [
          0,
          0.24444444444444446
         ],
         "showgrid": true
        },
        "yaxis11": {
         "anchor": "x11",
         "domain": [
          0,
          0.24444444444444446
         ],
         "showgrid": true
        },
        "yaxis12": {
         "anchor": "x12",
         "domain": [
          0,
          0.24444444444444446
         ],
         "showgrid": true
        },
        "yaxis2": {
         "anchor": "x2",
         "domain": [
          0.7555555555555555,
          1
         ],
         "showgrid": true
        },
        "yaxis3": {
         "anchor": "x3",
         "domain": [
          0.7555555555555555,
          1
         ],
         "showgrid": true
        },
        "yaxis4": {
         "anchor": "x4",
         "domain": [
          0.7555555555555555,
          1
         ],
         "showgrid": true
        },
        "yaxis5": {
         "anchor": "x5",
         "domain": [
          0.37777777777777777,
          0.6222222222222222
         ],
         "showgrid": true
        },
        "yaxis6": {
         "anchor": "x6",
         "domain": [
          0.37777777777777777,
          0.6222222222222222
         ],
         "showgrid": true
        },
        "yaxis7": {
         "anchor": "x7",
         "domain": [
          0.37777777777777777,
          0.6222222222222222
         ],
         "showgrid": true
        },
        "yaxis8": {
         "anchor": "x8",
         "domain": [
          0.37777777777777777,
          0.6222222222222222
         ],
         "showgrid": true
        },
        "yaxis9": {
         "anchor": "x9",
         "domain": [
          0,
          0.24444444444444446
         ],
         "showgrid": true
        }
       }
      },
      "text/html": [
       "<div>                        <script type=\"text/javascript\">window.PlotlyConfig = {MathJaxConfig: 'local'};</script>\n",
       "        <script charset=\"utf-8\" src=\"https://cdn.plot.ly/plotly-3.0.1.min.js\"></script>                <div id=\"adfeee90-bd33-402b-86a9-21a85485b693\" class=\"plotly-graph-div\" style=\"height:750px; width:1000px;\"></div>            <script type=\"text/javascript\">                window.PLOTLYENV=window.PLOTLYENV || {};                                if (document.getElementById(\"adfeee90-bd33-402b-86a9-21a85485b693\")) {                    Plotly.newPlot(                        \"adfeee90-bd33-402b-86a9-21a85485b693\",                        [{\"marker\":{\"color\":\"#D55E00\"},\"orientation\":\"h\",\"x\":[0.01199822493450686,0.014612791369684816,0.01804566946228622,0.022277965881095645,0.024404685078979676],\"y\":[\"m\\u00e9dico  \",\"v\\u00edrus  \",\"tomar  \",\"bact\\u00e9ria  \",\"antibi\\u00f3tico  \"],\"type\":\"bar\",\"xaxis\":\"x\",\"yaxis\":\"y\"},{\"marker\":{\"color\":\"#0072B2\"},\"orientation\":\"h\",\"x\":[0.016356632998167992,0.016613803127240225,0.017251681483943064,0.021808843997557326,0.030851982745524247],\"y\":[\"molecular  \",\"bact\\u00e9ria  \",\"associar  \",\"bovino  \",\"estudo  \"],\"type\":\"bar\",\"xaxis\":\"x2\",\"yaxis\":\"y2\"},{\"marker\":{\"color\":\"#CC79A7\"},\"orientation\":\"h\",\"x\":[0.03406976883015221,0.03564067256454183,0.03969014868606341,0.05885076529610206,0.06191488364213835],\"y\":[\"gonorrhoeae  \",\"bact\\u00e9rio  \",\"gonorreia  \",\"pneumoniae  \",\"klebsiella  \"],\"type\":\"bar\",\"xaxis\":\"x3\",\"yaxis\":\"y3\"},{\"marker\":{\"color\":\"#E69F00\"},\"orientation\":\"h\",\"x\":[0.02040966547343611,0.02040966547343611,0.02040966547343611,0.02551209799658597,0.0278657322352756],\"y\":[\"podre  \",\"petista  \",\"aura  \",\"rolar  \",\"brasil  \"],\"type\":\"bar\",\"xaxis\":\"x4\",\"yaxis\":\"y4\"},{\"marker\":{\"color\":\"#56B4E9\"},\"orientation\":\"h\",\"x\":[0.04646807517145173,0.07563776487514418,0.09784901864047801,0.125199148538717,0.13488185981719253],\"y\":[\"virus  \",\"resistencer  \",\"resistencia  \",\"bacteria  \",\"antibiotico  \"],\"type\":\"bar\",\"xaxis\":\"x5\",\"yaxis\":\"y5\"},{\"marker\":{\"color\":\"#009E73\"},\"orientation\":\"h\",\"x\":[0.03436090932092894,0.03436090932092894,0.03436090932092894,0.03436090932092894,0.042165422621369214],\"y\":[\"nelsoncezar  \",\"rafaelluiz  \",\"mdsss  \",\"virul\\u00eancer  \",\"vcs  \"],\"type\":\"bar\",\"xaxis\":\"x6\",\"yaxis\":\"y6\"},{\"marker\":{\"color\":\"#F0E442\"},\"orientation\":\"h\",\"x\":[0.025734739616930038,0.025734739616930038,0.025734739616930038,0.025734739616930038,0.033224200113406877],\"y\":[\"huauhuhauhauhauhahuo  \",\"vsf  \",\"hauhauaha  \",\"enhum  \",\"fico  \"],\"type\":\"bar\",\"xaxis\":\"x7\",\"yaxis\":\"y7\"},{\"marker\":{\"color\":\"#D55E00\"},\"orientation\":\"h\",\"x\":[0.030737056567466916,0.03318896969084595,0.03318896969084595,0.03318896969084595,0.0384565774010273],\"y\":[\"serratir  \",\"cefalotino  \",\"ampicilinar  \",\"clavunato  \",\"clavulanato  \"],\"type\":\"bar\",\"xaxis\":\"x8\",\"yaxis\":\"y8\"},{\"marker\":{\"color\":\"#0072B2\"},\"orientation\":\"h\",\"x\":[0.056576015690613046,0.056576015690613046,0.056576015690613046,0.056576015690613046,0.17598055917882333],\"y\":[\"mucho  \",\"eso  \",\"quien  \",\"venezuela  \",\"una  \"],\"type\":\"bar\",\"xaxis\":\"x9\",\"yaxis\":\"y9\"},{\"marker\":{\"color\":\"#CC79A7\"},\"orientation\":\"h\",\"x\":[0.04489491071858598,0.052978446763955744,0.07970197830867386,0.15391987791895356,0.215487829086535],\"y\":[\"info  \",\"antibi\\u00f3tico  \",\"strongr  \",\"amea\\u00e7ar  \",\"bact\\u00e9riar  \"],\"type\":\"bar\",\"xaxis\":\"x10\",\"yaxis\":\"y10\"}],                        {\"template\":{\"data\":{\"barpolar\":[{\"marker\":{\"line\":{\"color\":\"white\",\"width\":0.5},\"pattern\":{\"fillmode\":\"overlay\",\"size\":10,\"solidity\":0.2}},\"type\":\"barpolar\"}],\"bar\":[{\"error_x\":{\"color\":\"#2a3f5f\"},\"error_y\":{\"color\":\"#2a3f5f\"},\"marker\":{\"line\":{\"color\":\"white\",\"width\":0.5},\"pattern\":{\"fillmode\":\"overlay\",\"size\":10,\"solidity\":0.2}},\"type\":\"bar\"}],\"carpet\":[{\"aaxis\":{\"endlinecolor\":\"#2a3f5f\",\"gridcolor\":\"#C8D4E3\",\"linecolor\":\"#C8D4E3\",\"minorgridcolor\":\"#C8D4E3\",\"startlinecolor\":\"#2a3f5f\"},\"baxis\":{\"endlinecolor\":\"#2a3f5f\",\"gridcolor\":\"#C8D4E3\",\"linecolor\":\"#C8D4E3\",\"minorgridcolor\":\"#C8D4E3\",\"startlinecolor\":\"#2a3f5f\"},\"type\":\"carpet\"}],\"choropleth\":[{\"colorbar\":{\"outlinewidth\":0,\"ticks\":\"\"},\"type\":\"choropleth\"}],\"contourcarpet\":[{\"colorbar\":{\"outlinewidth\":0,\"ticks\":\"\"},\"type\":\"contourcarpet\"}],\"contour\":[{\"colorbar\":{\"outlinewidth\":0,\"ticks\":\"\"},\"colorscale\":[[0.0,\"#0d0887\"],[0.1111111111111111,\"#46039f\"],[0.2222222222222222,\"#7201a8\"],[0.3333333333333333,\"#9c179e\"],[0.4444444444444444,\"#bd3786\"],[0.5555555555555556,\"#d8576b\"],[0.6666666666666666,\"#ed7953\"],[0.7777777777777778,\"#fb9f3a\"],[0.8888888888888888,\"#fdca26\"],[1.0,\"#f0f921\"]],\"type\":\"contour\"}],\"heatmap\":[{\"colorbar\":{\"outlinewidth\":0,\"ticks\":\"\"},\"colorscale\":[[0.0,\"#0d0887\"],[0.1111111111111111,\"#46039f\"],[0.2222222222222222,\"#7201a8\"],[0.3333333333333333,\"#9c179e\"],[0.4444444444444444,\"#bd3786\"],[0.5555555555555556,\"#d8576b\"],[0.6666666666666666,\"#ed7953\"],[0.7777777777777778,\"#fb9f3a\"],[0.8888888888888888,\"#fdca26\"],[1.0,\"#f0f921\"]],\"type\":\"heatmap\"}],\"histogram2dcontour\":[{\"colorbar\":{\"outlinewidth\":0,\"ticks\":\"\"},\"colorscale\":[[0.0,\"#0d0887\"],[0.1111111111111111,\"#46039f\"],[0.2222222222222222,\"#7201a8\"],[0.3333333333333333,\"#9c179e\"],[0.4444444444444444,\"#bd3786\"],[0.5555555555555556,\"#d8576b\"],[0.6666666666666666,\"#ed7953\"],[0.7777777777777778,\"#fb9f3a\"],[0.8888888888888888,\"#fdca26\"],[1.0,\"#f0f921\"]],\"type\":\"histogram2dcontour\"}],\"histogram2d\":[{\"colorbar\":{\"outlinewidth\":0,\"ticks\":\"\"},\"colorscale\":[[0.0,\"#0d0887\"],[0.1111111111111111,\"#46039f\"],[0.2222222222222222,\"#7201a8\"],[0.3333333333333333,\"#9c179e\"],[0.4444444444444444,\"#bd3786\"],[0.5555555555555556,\"#d8576b\"],[0.6666666666666666,\"#ed7953\"],[0.7777777777777778,\"#fb9f3a\"],[0.8888888888888888,\"#fdca26\"],[1.0,\"#f0f921\"]],\"type\":\"histogram2d\"}],\"histogram\":[{\"marker\":{\"pattern\":{\"fillmode\":\"overlay\",\"size\":10,\"solidity\":0.2}},\"type\":\"histogram\"}],\"mesh3d\":[{\"colorbar\":{\"outlinewidth\":0,\"ticks\":\"\"},\"type\":\"mesh3d\"}],\"parcoords\":[{\"line\":{\"colorbar\":{\"outlinewidth\":0,\"ticks\":\"\"}},\"type\":\"parcoords\"}],\"pie\":[{\"automargin\":true,\"type\":\"pie\"}],\"scatter3d\":[{\"line\":{\"colorbar\":{\"outlinewidth\":0,\"ticks\":\"\"}},\"marker\":{\"colorbar\":{\"outlinewidth\":0,\"ticks\":\"\"}},\"type\":\"scatter3d\"}],\"scattercarpet\":[{\"marker\":{\"colorbar\":{\"outlinewidth\":0,\"ticks\":\"\"}},\"type\":\"scattercarpet\"}],\"scattergeo\":[{\"marker\":{\"colorbar\":{\"outlinewidth\":0,\"ticks\":\"\"}},\"type\":\"scattergeo\"}],\"scattergl\":[{\"marker\":{\"colorbar\":{\"outlinewidth\":0,\"ticks\":\"\"}},\"type\":\"scattergl\"}],\"scattermapbox\":[{\"marker\":{\"colorbar\":{\"outlinewidth\":0,\"ticks\":\"\"}},\"type\":\"scattermapbox\"}],\"scattermap\":[{\"marker\":{\"colorbar\":{\"outlinewidth\":0,\"ticks\":\"\"}},\"type\":\"scattermap\"}],\"scatterpolargl\":[{\"marker\":{\"colorbar\":{\"outlinewidth\":0,\"ticks\":\"\"}},\"type\":\"scatterpolargl\"}],\"scatterpolar\":[{\"marker\":{\"colorbar\":{\"outlinewidth\":0,\"ticks\":\"\"}},\"type\":\"scatterpolar\"}],\"scatter\":[{\"fillpattern\":{\"fillmode\":\"overlay\",\"size\":10,\"solidity\":0.2},\"type\":\"scatter\"}],\"scatterternary\":[{\"marker\":{\"colorbar\":{\"outlinewidth\":0,\"ticks\":\"\"}},\"type\":\"scatterternary\"}],\"surface\":[{\"colorbar\":{\"outlinewidth\":0,\"ticks\":\"\"},\"colorscale\":[[0.0,\"#0d0887\"],[0.1111111111111111,\"#46039f\"],[0.2222222222222222,\"#7201a8\"],[0.3333333333333333,\"#9c179e\"],[0.4444444444444444,\"#bd3786\"],[0.5555555555555556,\"#d8576b\"],[0.6666666666666666,\"#ed7953\"],[0.7777777777777778,\"#fb9f3a\"],[0.8888888888888888,\"#fdca26\"],[1.0,\"#f0f921\"]],\"type\":\"surface\"}],\"table\":[{\"cells\":{\"fill\":{\"color\":\"#EBF0F8\"},\"line\":{\"color\":\"white\"}},\"header\":{\"fill\":{\"color\":\"#C8D4E3\"},\"line\":{\"color\":\"white\"}},\"type\":\"table\"}]},\"layout\":{\"annotationdefaults\":{\"arrowcolor\":\"#2a3f5f\",\"arrowhead\":0,\"arrowwidth\":1},\"autotypenumbers\":\"strict\",\"coloraxis\":{\"colorbar\":{\"outlinewidth\":0,\"ticks\":\"\"}},\"colorscale\":{\"diverging\":[[0,\"#8e0152\"],[0.1,\"#c51b7d\"],[0.2,\"#de77ae\"],[0.3,\"#f1b6da\"],[0.4,\"#fde0ef\"],[0.5,\"#f7f7f7\"],[0.6,\"#e6f5d0\"],[0.7,\"#b8e186\"],[0.8,\"#7fbc41\"],[0.9,\"#4d9221\"],[1,\"#276419\"]],\"sequential\":[[0.0,\"#0d0887\"],[0.1111111111111111,\"#46039f\"],[0.2222222222222222,\"#7201a8\"],[0.3333333333333333,\"#9c179e\"],[0.4444444444444444,\"#bd3786\"],[0.5555555555555556,\"#d8576b\"],[0.6666666666666666,\"#ed7953\"],[0.7777777777777778,\"#fb9f3a\"],[0.8888888888888888,\"#fdca26\"],[1.0,\"#f0f921\"]],\"sequentialminus\":[[0.0,\"#0d0887\"],[0.1111111111111111,\"#46039f\"],[0.2222222222222222,\"#7201a8\"],[0.3333333333333333,\"#9c179e\"],[0.4444444444444444,\"#bd3786\"],[0.5555555555555556,\"#d8576b\"],[0.6666666666666666,\"#ed7953\"],[0.7777777777777778,\"#fb9f3a\"],[0.8888888888888888,\"#fdca26\"],[1.0,\"#f0f921\"]]},\"colorway\":[\"#636efa\",\"#EF553B\",\"#00cc96\",\"#ab63fa\",\"#FFA15A\",\"#19d3f3\",\"#FF6692\",\"#B6E880\",\"#FF97FF\",\"#FECB52\"],\"font\":{\"color\":\"#2a3f5f\"},\"geo\":{\"bgcolor\":\"white\",\"lakecolor\":\"white\",\"landcolor\":\"white\",\"showlakes\":true,\"showland\":true,\"subunitcolor\":\"#C8D4E3\"},\"hoverlabel\":{\"align\":\"left\"},\"hovermode\":\"closest\",\"mapbox\":{\"style\":\"light\"},\"paper_bgcolor\":\"white\",\"plot_bgcolor\":\"white\",\"polar\":{\"angularaxis\":{\"gridcolor\":\"#EBF0F8\",\"linecolor\":\"#EBF0F8\",\"ticks\":\"\"},\"bgcolor\":\"white\",\"radialaxis\":{\"gridcolor\":\"#EBF0F8\",\"linecolor\":\"#EBF0F8\",\"ticks\":\"\"}},\"scene\":{\"xaxis\":{\"backgroundcolor\":\"white\",\"gridcolor\":\"#DFE8F3\",\"gridwidth\":2,\"linecolor\":\"#EBF0F8\",\"showbackground\":true,\"ticks\":\"\",\"zerolinecolor\":\"#EBF0F8\"},\"yaxis\":{\"backgroundcolor\":\"white\",\"gridcolor\":\"#DFE8F3\",\"gridwidth\":2,\"linecolor\":\"#EBF0F8\",\"showbackground\":true,\"ticks\":\"\",\"zerolinecolor\":\"#EBF0F8\"},\"zaxis\":{\"backgroundcolor\":\"white\",\"gridcolor\":\"#DFE8F3\",\"gridwidth\":2,\"linecolor\":\"#EBF0F8\",\"showbackground\":true,\"ticks\":\"\",\"zerolinecolor\":\"#EBF0F8\"}},\"shapedefaults\":{\"line\":{\"color\":\"#2a3f5f\"}},\"ternary\":{\"aaxis\":{\"gridcolor\":\"#DFE8F3\",\"linecolor\":\"#A2B1C6\",\"ticks\":\"\"},\"baxis\":{\"gridcolor\":\"#DFE8F3\",\"linecolor\":\"#A2B1C6\",\"ticks\":\"\"},\"bgcolor\":\"white\",\"caxis\":{\"gridcolor\":\"#DFE8F3\",\"linecolor\":\"#A2B1C6\",\"ticks\":\"\"}},\"title\":{\"x\":0.05},\"xaxis\":{\"automargin\":true,\"gridcolor\":\"#EBF0F8\",\"linecolor\":\"#EBF0F8\",\"ticks\":\"\",\"title\":{\"standoff\":15},\"zerolinecolor\":\"#EBF0F8\",\"zerolinewidth\":2},\"yaxis\":{\"automargin\":true,\"gridcolor\":\"#EBF0F8\",\"linecolor\":\"#EBF0F8\",\"ticks\":\"\",\"title\":{\"standoff\":15},\"zerolinecolor\":\"#EBF0F8\",\"zerolinewidth\":2}}},\"xaxis\":{\"anchor\":\"y\",\"domain\":[0.0,0.175],\"showgrid\":true},\"yaxis\":{\"anchor\":\"x\",\"domain\":[0.7555555555555555,1.0],\"showgrid\":true},\"xaxis2\":{\"anchor\":\"y2\",\"domain\":[0.275,0.45],\"showgrid\":true},\"yaxis2\":{\"anchor\":\"x2\",\"domain\":[0.7555555555555555,1.0],\"showgrid\":true},\"xaxis3\":{\"anchor\":\"y3\",\"domain\":[0.55,0.7250000000000001],\"showgrid\":true},\"yaxis3\":{\"anchor\":\"x3\",\"domain\":[0.7555555555555555,1.0],\"showgrid\":true},\"xaxis4\":{\"anchor\":\"y4\",\"domain\":[0.825,1.0],\"showgrid\":true},\"yaxis4\":{\"anchor\":\"x4\",\"domain\":[0.7555555555555555,1.0],\"showgrid\":true},\"xaxis5\":{\"anchor\":\"y5\",\"domain\":[0.0,0.175],\"showgrid\":true},\"yaxis5\":{\"anchor\":\"x5\",\"domain\":[0.37777777777777777,0.6222222222222222],\"showgrid\":true},\"xaxis6\":{\"anchor\":\"y6\",\"domain\":[0.275,0.45],\"showgrid\":true},\"yaxis6\":{\"anchor\":\"x6\",\"domain\":[0.37777777777777777,0.6222222222222222],\"showgrid\":true},\"xaxis7\":{\"anchor\":\"y7\",\"domain\":[0.55,0.7250000000000001],\"showgrid\":true},\"yaxis7\":{\"anchor\":\"x7\",\"domain\":[0.37777777777777777,0.6222222222222222],\"showgrid\":true},\"xaxis8\":{\"anchor\":\"y8\",\"domain\":[0.825,1.0],\"showgrid\":true},\"yaxis8\":{\"anchor\":\"x8\",\"domain\":[0.37777777777777777,0.6222222222222222],\"showgrid\":true},\"xaxis9\":{\"anchor\":\"y9\",\"domain\":[0.0,0.175],\"showgrid\":true},\"yaxis9\":{\"anchor\":\"x9\",\"domain\":[0.0,0.24444444444444446],\"showgrid\":true},\"xaxis10\":{\"anchor\":\"y10\",\"domain\":[0.275,0.45],\"showgrid\":true},\"yaxis10\":{\"anchor\":\"x10\",\"domain\":[0.0,0.24444444444444446],\"showgrid\":true},\"xaxis11\":{\"anchor\":\"y11\",\"domain\":[0.55,0.7250000000000001],\"showgrid\":true},\"yaxis11\":{\"anchor\":\"x11\",\"domain\":[0.0,0.24444444444444446],\"showgrid\":true},\"xaxis12\":{\"anchor\":\"y12\",\"domain\":[0.825,1.0],\"showgrid\":true},\"yaxis12\":{\"anchor\":\"x12\",\"domain\":[0.0,0.24444444444444446],\"showgrid\":true},\"annotations\":[{\"font\":{\"size\":16},\"showarrow\":false,\"text\":\"Topic 0\",\"x\":0.0875,\"xanchor\":\"center\",\"xref\":\"paper\",\"y\":1.0,\"yanchor\":\"bottom\",\"yref\":\"paper\"},{\"font\":{\"size\":16},\"showarrow\":false,\"text\":\"Topic 1\",\"x\":0.36250000000000004,\"xanchor\":\"center\",\"xref\":\"paper\",\"y\":1.0,\"yanchor\":\"bottom\",\"yref\":\"paper\"},{\"font\":{\"size\":16},\"showarrow\":false,\"text\":\"Topic 2\",\"x\":0.6375000000000001,\"xanchor\":\"center\",\"xref\":\"paper\",\"y\":1.0,\"yanchor\":\"bottom\",\"yref\":\"paper\"},{\"font\":{\"size\":16},\"showarrow\":false,\"text\":\"Topic 3\",\"x\":0.9125,\"xanchor\":\"center\",\"xref\":\"paper\",\"y\":1.0,\"yanchor\":\"bottom\",\"yref\":\"paper\"},{\"font\":{\"size\":16},\"showarrow\":false,\"text\":\"Topic 4\",\"x\":0.0875,\"xanchor\":\"center\",\"xref\":\"paper\",\"y\":0.6222222222222222,\"yanchor\":\"bottom\",\"yref\":\"paper\"},{\"font\":{\"size\":16},\"showarrow\":false,\"text\":\"Topic 5\",\"x\":0.36250000000000004,\"xanchor\":\"center\",\"xref\":\"paper\",\"y\":0.6222222222222222,\"yanchor\":\"bottom\",\"yref\":\"paper\"},{\"font\":{\"size\":16},\"showarrow\":false,\"text\":\"Topic 6\",\"x\":0.6375000000000001,\"xanchor\":\"center\",\"xref\":\"paper\",\"y\":0.6222222222222222,\"yanchor\":\"bottom\",\"yref\":\"paper\"},{\"font\":{\"size\":16},\"showarrow\":false,\"text\":\"Topic 7\",\"x\":0.9125,\"xanchor\":\"center\",\"xref\":\"paper\",\"y\":0.6222222222222222,\"yanchor\":\"bottom\",\"yref\":\"paper\"},{\"font\":{\"size\":16},\"showarrow\":false,\"text\":\"Topic 8\",\"x\":0.0875,\"xanchor\":\"center\",\"xref\":\"paper\",\"y\":0.24444444444444446,\"yanchor\":\"bottom\",\"yref\":\"paper\"},{\"font\":{\"size\":16},\"showarrow\":false,\"text\":\"Topic 9\",\"x\":0.36250000000000004,\"xanchor\":\"center\",\"xref\":\"paper\",\"y\":0.24444444444444446,\"yanchor\":\"bottom\",\"yref\":\"paper\"}],\"title\":{\"font\":{\"size\":22,\"color\":\"Black\"},\"text\":\"Topic Word Scores\",\"x\":0.5,\"xanchor\":\"center\",\"yanchor\":\"top\"},\"hoverlabel\":{\"font\":{\"size\":16,\"family\":\"Rockwell\"},\"bgcolor\":\"white\"},\"showlegend\":false,\"width\":1000,\"height\":750},                        {\"responsive\": true}                    )                };            </script>        </div>"
      ],
      "text/plain": [
       "Figure({\n",
       "    'data': [{'marker': {'color': '#D55E00'},\n",
       "              'orientation': 'h',\n",
       "              'type': 'bar',\n",
       "              'x': [0.01199822493450686, 0.014612791369684816,\n",
       "                    0.01804566946228622, 0.022277965881095645,\n",
       "                    0.024404685078979676],\n",
       "              'xaxis': 'x',\n",
       "              'y': [médico  , vírus  , tomar  , bactéria  , antibiótico  ],\n",
       "              'yaxis': 'y'},\n",
       "             {'marker': {'color': '#0072B2'},\n",
       "              'orientation': 'h',\n",
       "              'type': 'bar',\n",
       "              'x': [0.016356632998167992, 0.016613803127240225,\n",
       "                    0.017251681483943064, 0.021808843997557326,\n",
       "                    0.030851982745524247],\n",
       "              'xaxis': 'x2',\n",
       "              'y': [molecular  , bactéria  , associar  , bovino  , estudo  ],\n",
       "              'yaxis': 'y2'},\n",
       "             {'marker': {'color': '#CC79A7'},\n",
       "              'orientation': 'h',\n",
       "              'type': 'bar',\n",
       "              'x': [0.03406976883015221, 0.03564067256454183, 0.03969014868606341,\n",
       "                    0.05885076529610206, 0.06191488364213835],\n",
       "              'xaxis': 'x3',\n",
       "              'y': [gonorrhoeae  , bactério  , gonorreia  , pneumoniae  ,\n",
       "                    klebsiella  ],\n",
       "              'yaxis': 'y3'},\n",
       "             {'marker': {'color': '#E69F00'},\n",
       "              'orientation': 'h',\n",
       "              'type': 'bar',\n",
       "              'x': [0.02040966547343611, 0.02040966547343611, 0.02040966547343611,\n",
       "                    0.02551209799658597, 0.0278657322352756],\n",
       "              'xaxis': 'x4',\n",
       "              'y': [podre  , petista  , aura  , rolar  , brasil  ],\n",
       "              'yaxis': 'y4'},\n",
       "             {'marker': {'color': '#56B4E9'},\n",
       "              'orientation': 'h',\n",
       "              'type': 'bar',\n",
       "              'x': [0.04646807517145173, 0.07563776487514418, 0.09784901864047801,\n",
       "                    0.125199148538717, 0.13488185981719253],\n",
       "              'xaxis': 'x5',\n",
       "              'y': [virus  , resistencer  , resistencia  , bacteria  , antibiotico\n",
       "                    ],\n",
       "              'yaxis': 'y5'},\n",
       "             {'marker': {'color': '#009E73'},\n",
       "              'orientation': 'h',\n",
       "              'type': 'bar',\n",
       "              'x': [0.03436090932092894, 0.03436090932092894, 0.03436090932092894,\n",
       "                    0.03436090932092894, 0.042165422621369214],\n",
       "              'xaxis': 'x6',\n",
       "              'y': [nelsoncezar  , rafaelluiz  , mdsss  , virulêncer  , vcs  ],\n",
       "              'yaxis': 'y6'},\n",
       "             {'marker': {'color': '#F0E442'},\n",
       "              'orientation': 'h',\n",
       "              'type': 'bar',\n",
       "              'x': [0.025734739616930038, 0.025734739616930038,\n",
       "                    0.025734739616930038, 0.025734739616930038,\n",
       "                    0.033224200113406877],\n",
       "              'xaxis': 'x7',\n",
       "              'y': [huauhuhauhauhauhahuo  , vsf  , hauhauaha  , enhum  , fico  ],\n",
       "              'yaxis': 'y7'},\n",
       "             {'marker': {'color': '#D55E00'},\n",
       "              'orientation': 'h',\n",
       "              'type': 'bar',\n",
       "              'x': [0.030737056567466916, 0.03318896969084595,\n",
       "                    0.03318896969084595, 0.03318896969084595, 0.0384565774010273],\n",
       "              'xaxis': 'x8',\n",
       "              'y': [serratir  , cefalotino  , ampicilinar  , clavunato  ,\n",
       "                    clavulanato  ],\n",
       "              'yaxis': 'y8'},\n",
       "             {'marker': {'color': '#0072B2'},\n",
       "              'orientation': 'h',\n",
       "              'type': 'bar',\n",
       "              'x': [0.056576015690613046, 0.056576015690613046,\n",
       "                    0.056576015690613046, 0.056576015690613046,\n",
       "                    0.17598055917882333],\n",
       "              'xaxis': 'x9',\n",
       "              'y': [mucho  , eso  , quien  , venezuela  , una  ],\n",
       "              'yaxis': 'y9'},\n",
       "             {'marker': {'color': '#CC79A7'},\n",
       "              'orientation': 'h',\n",
       "              'type': 'bar',\n",
       "              'x': [0.04489491071858598, 0.052978446763955744,\n",
       "                    0.07970197830867386, 0.15391987791895356, 0.215487829086535],\n",
       "              'xaxis': 'x10',\n",
       "              'y': [info  , antibiótico  , strongr  , ameaçar  , bactériar  ],\n",
       "              'yaxis': 'y10'}],\n",
       "    'layout': {'annotations': [{'font': {'size': 16},\n",
       "                                'showarrow': False,\n",
       "                                'text': 'Topic 0',\n",
       "                                'x': 0.0875,\n",
       "                                'xanchor': 'center',\n",
       "                                'xref': 'paper',\n",
       "                                'y': 1.0,\n",
       "                                'yanchor': 'bottom',\n",
       "                                'yref': 'paper'},\n",
       "                               {'font': {'size': 16},\n",
       "                                'showarrow': False,\n",
       "                                'text': 'Topic 1',\n",
       "                                'x': 0.36250000000000004,\n",
       "                                'xanchor': 'center',\n",
       "                                'xref': 'paper',\n",
       "                                'y': 1.0,\n",
       "                                'yanchor': 'bottom',\n",
       "                                'yref': 'paper'},\n",
       "                               {'font': {'size': 16},\n",
       "                                'showarrow': False,\n",
       "                                'text': 'Topic 2',\n",
       "                                'x': 0.6375000000000001,\n",
       "                                'xanchor': 'center',\n",
       "                                'xref': 'paper',\n",
       "                                'y': 1.0,\n",
       "                                'yanchor': 'bottom',\n",
       "                                'yref': 'paper'},\n",
       "                               {'font': {'size': 16},\n",
       "                                'showarrow': False,\n",
       "                                'text': 'Topic 3',\n",
       "                                'x': 0.9125,\n",
       "                                'xanchor': 'center',\n",
       "                                'xref': 'paper',\n",
       "                                'y': 1.0,\n",
       "                                'yanchor': 'bottom',\n",
       "                                'yref': 'paper'},\n",
       "                               {'font': {'size': 16},\n",
       "                                'showarrow': False,\n",
       "                                'text': 'Topic 4',\n",
       "                                'x': 0.0875,\n",
       "                                'xanchor': 'center',\n",
       "                                'xref': 'paper',\n",
       "                                'y': 0.6222222222222222,\n",
       "                                'yanchor': 'bottom',\n",
       "                                'yref': 'paper'},\n",
       "                               {'font': {'size': 16},\n",
       "                                'showarrow': False,\n",
       "                                'text': 'Topic 5',\n",
       "                                'x': 0.36250000000000004,\n",
       "                                'xanchor': 'center',\n",
       "                                'xref': 'paper',\n",
       "                                'y': 0.6222222222222222,\n",
       "                                'yanchor': 'bottom',\n",
       "                                'yref': 'paper'},\n",
       "                               {'font': {'size': 16},\n",
       "                                'showarrow': False,\n",
       "                                'text': 'Topic 6',\n",
       "                                'x': 0.6375000000000001,\n",
       "                                'xanchor': 'center',\n",
       "                                'xref': 'paper',\n",
       "                                'y': 0.6222222222222222,\n",
       "                                'yanchor': 'bottom',\n",
       "                                'yref': 'paper'},\n",
       "                               {'font': {'size': 16},\n",
       "                                'showarrow': False,\n",
       "                                'text': 'Topic 7',\n",
       "                                'x': 0.9125,\n",
       "                                'xanchor': 'center',\n",
       "                                'xref': 'paper',\n",
       "                                'y': 0.6222222222222222,\n",
       "                                'yanchor': 'bottom',\n",
       "                                'yref': 'paper'},\n",
       "                               {'font': {'size': 16},\n",
       "                                'showarrow': False,\n",
       "                                'text': 'Topic 8',\n",
       "                                'x': 0.0875,\n",
       "                                'xanchor': 'center',\n",
       "                                'xref': 'paper',\n",
       "                                'y': 0.24444444444444446,\n",
       "                                'yanchor': 'bottom',\n",
       "                                'yref': 'paper'},\n",
       "                               {'font': {'size': 16},\n",
       "                                'showarrow': False,\n",
       "                                'text': 'Topic 9',\n",
       "                                'x': 0.36250000000000004,\n",
       "                                'xanchor': 'center',\n",
       "                                'xref': 'paper',\n",
       "                                'y': 0.24444444444444446,\n",
       "                                'yanchor': 'bottom',\n",
       "                                'yref': 'paper'}],\n",
       "               'height': 750,\n",
       "               'hoverlabel': {'bgcolor': 'white', 'font': {'family': 'Rockwell', 'size': 16}},\n",
       "               'showlegend': False,\n",
       "               'template': '...',\n",
       "               'title': {'font': {'color': 'Black', 'size': 22},\n",
       "                         'text': 'Topic Word Scores',\n",
       "                         'x': 0.5,\n",
       "                         'xanchor': 'center',\n",
       "                         'yanchor': 'top'},\n",
       "               'width': 1000,\n",
       "               'xaxis': {'anchor': 'y', 'domain': [0.0, 0.175], 'showgrid': True},\n",
       "               'xaxis10': {'anchor': 'y10', 'domain': [0.275, 0.45], 'showgrid': True},\n",
       "               'xaxis11': {'anchor': 'y11', 'domain': [0.55, 0.7250000000000001], 'showgrid': True},\n",
       "               'xaxis12': {'anchor': 'y12', 'domain': [0.825, 1.0], 'showgrid': True},\n",
       "               'xaxis2': {'anchor': 'y2', 'domain': [0.275, 0.45], 'showgrid': True},\n",
       "               'xaxis3': {'anchor': 'y3', 'domain': [0.55, 0.7250000000000001], 'showgrid': True},\n",
       "               'xaxis4': {'anchor': 'y4', 'domain': [0.825, 1.0], 'showgrid': True},\n",
       "               'xaxis5': {'anchor': 'y5', 'domain': [0.0, 0.175], 'showgrid': True},\n",
       "               'xaxis6': {'anchor': 'y6', 'domain': [0.275, 0.45], 'showgrid': True},\n",
       "               'xaxis7': {'anchor': 'y7', 'domain': [0.55, 0.7250000000000001], 'showgrid': True},\n",
       "               'xaxis8': {'anchor': 'y8', 'domain': [0.825, 1.0], 'showgrid': True},\n",
       "               'xaxis9': {'anchor': 'y9', 'domain': [0.0, 0.175], 'showgrid': True},\n",
       "               'yaxis': {'anchor': 'x', 'domain': [0.7555555555555555, 1.0], 'showgrid': True},\n",
       "               'yaxis10': {'anchor': 'x10', 'domain': [0.0, 0.24444444444444446], 'showgrid': True},\n",
       "               'yaxis11': {'anchor': 'x11', 'domain': [0.0, 0.24444444444444446], 'showgrid': True},\n",
       "               'yaxis12': {'anchor': 'x12', 'domain': [0.0, 0.24444444444444446], 'showgrid': True},\n",
       "               'yaxis2': {'anchor': 'x2', 'domain': [0.7555555555555555, 1.0], 'showgrid': True},\n",
       "               'yaxis3': {'anchor': 'x3', 'domain': [0.7555555555555555, 1.0], 'showgrid': True},\n",
       "               'yaxis4': {'anchor': 'x4', 'domain': [0.7555555555555555, 1.0], 'showgrid': True},\n",
       "               'yaxis5': {'anchor': 'x5', 'domain': [0.37777777777777777, 0.6222222222222222], 'showgrid': True},\n",
       "               'yaxis6': {'anchor': 'x6', 'domain': [0.37777777777777777, 0.6222222222222222], 'showgrid': True},\n",
       "               'yaxis7': {'anchor': 'x7', 'domain': [0.37777777777777777, 0.6222222222222222], 'showgrid': True},\n",
       "               'yaxis8': {'anchor': 'x8', 'domain': [0.37777777777777777, 0.6222222222222222], 'showgrid': True},\n",
       "               'yaxis9': {'anchor': 'x9', 'domain': [0.0, 0.24444444444444446], 'showgrid': True}}\n",
       "})"
      ]
     },
     "execution_count": 171,
     "metadata": {},
     "output_type": "execute_result"
    }
   ],
   "source": [
    "topic_model.visualize_barchart(top_n_topics=10)"
   ]
  },
  {
   "cell_type": "code",
   "execution_count": 45,
   "id": "a093653d",
   "metadata": {},
   "outputs": [
    {
     "name": "stderr",
     "output_type": "stream",
     "text": [
      "2025-06-17 16:11:04,680 - BERTopic - WARNING: When you use `pickle` to save/load a BERTopic model,please make sure that the environments in which you saveand load the model are **exactly** the same. The version of BERTopic,its dependencies, and python need to remain the same.\n"
     ]
    }
   ],
   "source": [
    "topic_model.save(\"meu_modelo_bertopic\")"
   ]
  }
 ],
 "metadata": {
  "kernelspec": {
   "display_name": ".venv",
   "language": "python",
   "name": "python3"
  },
  "language_info": {
   "codemirror_mode": {
    "name": "ipython",
    "version": 3
   },
   "file_extension": ".py",
   "mimetype": "text/x-python",
   "name": "python",
   "nbconvert_exporter": "python",
   "pygments_lexer": "ipython3",
   "version": "3.12.7"
  }
 },
 "nbformat": 4,
 "nbformat_minor": 5
}
